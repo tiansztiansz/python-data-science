{
 "cells": [
  {
   "cell_type": "markdown",
   "id": "68188836",
   "metadata": {},
   "source": [
    "#### SenseVoice非实时语音识别"
   ]
  },
  {
   "cell_type": "code",
   "execution_count": null,
   "id": "eeb14183",
   "metadata": {},
   "outputs": [
    {
     "name": "stdout",
     "output_type": "stream",
     "text": [
      "funasr version: 1.2.6.\n",
      "Check update of funasr, and it would cost few times. You may disable it by set `disable_update=True` in AutoModel\n"
     ]
    },
    {
     "name": "stderr",
     "output_type": "stream",
     "text": [
      "2025-05-25 11:45:27,744 - modelscope - WARNING - Using branch: master as version is unstable, use with caution\n"
     ]
    },
    {
     "name": "stdout",
     "output_type": "stream",
     "text": [
      "Downloading Model from https://www.modelscope.cn to directory: C:\\Users\\18664\\.cache\\modelscope\\hub\\models\\iic\\SenseVoiceSmall\n",
      "Downloading Model from https://www.modelscope.cn to directory: C:\\Users\\18664\\.cache\\modelscope\\hub\\models\\iic\\speech_fsmn_vad_zh-cn-16k-common-pytorch\n"
     ]
    },
    {
     "name": "stderr",
     "output_type": "stream",
     "text": [
      "2025-05-25 11:45:30,276 - modelscope - WARNING - Using branch: master as version is unstable, use with caution\n",
      "rtf_avg: 0.004: 100%|\u001b[34m██████████\u001b[0m| 1/1 [00:00<00:00, 45.45it/s]                                                                                          \n",
      "rtf_avg: 0.066: 100%|\u001b[34m██████████\u001b[0m| 1/1 [00:00<00:00,  2.88it/s]\n",
      "rtf_avg: 0.063, time_speech:  5.616, time_escape: 0.353: 100%|\u001b[31m██████████\u001b[0m| 1/1 [00:00<00:00,  2.78it/s]"
     ]
    },
    {
     "name": "stdout",
     "output_type": "stream",
     "text": [
      "开放时间早上9点至下午5点。\n"
     ]
    },
    {
     "name": "stderr",
     "output_type": "stream",
     "text": [
      "\n"
     ]
    }
   ],
   "source": [
    "from funasr import AutoModel\n",
    "from funasr.utils.postprocess_utils import rich_transcription_postprocess\n",
    "\n",
    "model_dir = \"iic/SenseVoiceSmall\"\n",
    "\n",
    "model = AutoModel(\n",
    "    model=model_dir,\n",
    "    vad_model=\"fsmn-vad\",\n",
    "    vad_kwargs={\"max_single_segment_time\": 30000},\n",
    "    device=\"cpu\",  # \"cpu\", \"cuda:0\"\n",
    ")\n",
    "\n",
    "res = model.generate(\n",
    "    input=f\"{model.model_path}/example/zh.mp3\",\n",
    "    cache={},\n",
    "    language=\"auto\",  \n",
    "    use_itn=True,\n",
    "    batch_size_s=60,\n",
    "    merge_vad=True,  \n",
    "    merge_length_s=15,\n",
    ")\n",
    "text = rich_transcription_postprocess(res[0][\"text\"])\n",
    "print(text)"
   ]
  },
  {
   "cell_type": "code",
   "execution_count": 5,
   "id": "705e86e3",
   "metadata": {},
   "outputs": [
    {
     "data": {
      "text/plain": [
       "'开放时间早上9点至下午5点。'"
      ]
     },
     "execution_count": 5,
     "metadata": {},
     "output_type": "execute_result"
    }
   ],
   "source": [
    "text"
   ]
  },
  {
   "cell_type": "markdown",
   "id": "acf46394",
   "metadata": {},
   "source": [
    "#### paraformer实时语音识别"
   ]
  },
  {
   "cell_type": "code",
   "execution_count": 6,
   "id": "f12b2e5a",
   "metadata": {},
   "outputs": [
    {
     "name": "stdout",
     "output_type": "stream",
     "text": [
      "funasr version: 1.2.6.\n",
      "Check update of funasr, and it would cost few times. You may disable it by set `disable_update=True` in AutoModel\n",
      "Downloading Model from https://www.modelscope.cn to directory: C:\\Users\\18664\\.cache\\modelscope\\hub\\models\\iic\\speech_paraformer-large_asr_nat-zh-cn-16k-common-vocab8404-online\n"
     ]
    },
    {
     "name": "stderr",
     "output_type": "stream",
     "text": [
      "2025-05-25 11:49:33,721 - modelscope - WARNING - Using branch: master as version is unstable, use with caution\n",
      "2025-05-25 11:49:33,997 - modelscope - INFO - Got 10 files, start to download ...\n"
     ]
    },
    {
     "data": {
      "application/vnd.jupyter.widget-view+json": {
       "model_id": "7e4a51eaa1b342558fe1d6f1912dac82",
       "version_major": 2,
       "version_minor": 0
      },
      "text/plain": [
       "Processing 10 items:   0%|          | 0.00/10.0 [00:00<?, ?it/s]"
      ]
     },
     "metadata": {},
     "output_type": "display_data"
    },
    {
     "data": {
      "application/vnd.jupyter.widget-view+json": {
       "model_id": "bf8ad4993b484ed28ee431c74dd2d97a",
       "version_major": 2,
       "version_minor": 0
      },
      "text/plain": [
       "Downloading [am.mvn]:   0%|          | 0.00/10.9k [00:00<?, ?B/s]"
      ]
     },
     "metadata": {},
     "output_type": "display_data"
    },
    {
     "data": {
      "application/vnd.jupyter.widget-view+json": {
       "model_id": "cc4e04399f7749a98ca935e7e2bec218",
       "version_major": 2,
       "version_minor": 0
      },
      "text/plain": [
       "Downloading [configuration.json]:   0%|          | 0.00/472 [00:00<?, ?B/s]"
      ]
     },
     "metadata": {},
     "output_type": "display_data"
    },
    {
     "data": {
      "application/vnd.jupyter.widget-view+json": {
       "model_id": "c6d6df707e634f1099acd2b5a51188c8",
       "version_major": 2,
       "version_minor": 0
      },
      "text/plain": [
       "Downloading [model.pt]:   0%|          | 0.00/840M [00:00<?, ?B/s]"
      ]
     },
     "metadata": {},
     "output_type": "display_data"
    },
    {
     "data": {
      "application/vnd.jupyter.widget-view+json": {
       "model_id": "c9a2f6bd016b407481d4ce227efe18dd",
       "version_major": 2,
       "version_minor": 0
      },
      "text/plain": [
       "Downloading [config.yaml]:   0%|          | 0.00/2.87k [00:00<?, ?B/s]"
      ]
     },
     "metadata": {},
     "output_type": "display_data"
    },
    {
     "data": {
      "application/vnd.jupyter.widget-view+json": {
       "model_id": "f60db2bd984242fd811b2796bf0549b5",
       "version_major": 2,
       "version_minor": 0
      },
      "text/plain": [
       "Downloading [example/asr_example.wav]:   0%|          | 0.00/173k [00:00<?, ?B/s]"
      ]
     },
     "metadata": {},
     "output_type": "display_data"
    },
    {
     "data": {
      "application/vnd.jupyter.widget-view+json": {
       "model_id": "70ef210ca85348acba6f676c029c6de7",
       "version_major": 2,
       "version_minor": 0
      },
      "text/plain": [
       "Downloading [README.md]:   0%|          | 0.00/11.8k [00:00<?, ?B/s]"
      ]
     },
     "metadata": {},
     "output_type": "display_data"
    },
    {
     "data": {
      "application/vnd.jupyter.widget-view+json": {
       "model_id": "c798827ebe4847c4a3dd91cc7966ad7b",
       "version_major": 2,
       "version_minor": 0
      },
      "text/plain": [
       "Downloading [.DS_Store]:   0%|          | 0.00/6.00k [00:00<?, ?B/s]"
      ]
     },
     "metadata": {},
     "output_type": "display_data"
    },
    {
     "data": {
      "application/vnd.jupyter.widget-view+json": {
       "model_id": "96247f10904840b29e497eb549a79250",
       "version_major": 2,
       "version_minor": 0
      },
      "text/plain": [
       "Downloading [seg_dict]:   0%|          | 0.00/7.90M [00:00<?, ?B/s]"
      ]
     },
     "metadata": {},
     "output_type": "display_data"
    },
    {
     "data": {
      "application/vnd.jupyter.widget-view+json": {
       "model_id": "796a36a093334339ad35d1a57181cdec",
       "version_major": 2,
       "version_minor": 0
      },
      "text/plain": [
       "Downloading [fig/struct.png]:   0%|          | 0.00/48.7k [00:00<?, ?B/s]"
      ]
     },
     "metadata": {},
     "output_type": "display_data"
    },
    {
     "data": {
      "application/vnd.jupyter.widget-view+json": {
       "model_id": "e9544f647df548f8ad6be9e581a07bb7",
       "version_major": 2,
       "version_minor": 0
      },
      "text/plain": [
       "Downloading [tokens.json]:   0%|          | 0.00/91.5k [00:00<?, ?B/s]"
      ]
     },
     "metadata": {},
     "output_type": "display_data"
    },
    {
     "name": "stderr",
     "output_type": "stream",
     "text": [
      "2025-05-25 11:52:18,749 - modelscope - INFO - Download model 'iic/speech_paraformer-large_asr_nat-zh-cn-16k-common-vocab8404-online' successfully.\n",
      "rtf_avg: 0.170: 100%|\u001b[34m██████████\u001b[0m| 1/1 [00:00<00:00,  9.59it/s]                                                                                          \n"
     ]
    },
    {
     "name": "stdout",
     "output_type": "stream",
     "text": [
      "[{'key': 'rand_key_2yW4Acq9GFz6Y', 'text': ''}]\n"
     ]
    },
    {
     "name": "stderr",
     "output_type": "stream",
     "text": [
      "rtf_avg: 0.159: 100%|\u001b[34m██████████\u001b[0m| 1/1 [00:00<00:00, 10.37it/s]                                                                                          \n"
     ]
    },
    {
     "name": "stdout",
     "output_type": "stream",
     "text": [
      "[{'key': 'rand_key_1t9EwL56nGisi', 'text': ''}]\n"
     ]
    },
    {
     "name": "stderr",
     "output_type": "stream",
     "text": [
      "rtf_avg: 0.219: 100%|\u001b[34m██████████\u001b[0m| 1/1 [00:00<00:00,  7.46it/s]                                                                                          \n"
     ]
    },
    {
     "name": "stdout",
     "output_type": "stream",
     "text": [
      "[{'key': 'rand_key_WgNZq6ITZM5jt', 'text': '欢迎大'}]\n"
     ]
    },
    {
     "name": "stderr",
     "output_type": "stream",
     "text": [
      "rtf_avg: 0.205: 100%|\u001b[34m██████████\u001b[0m| 1/1 [00:00<00:00,  7.98it/s]                                                                                          \n"
     ]
    },
    {
     "name": "stdout",
     "output_type": "stream",
     "text": [
      "[{'key': 'rand_key_gUe52RvEJgwBu', 'text': '家来'}]\n"
     ]
    },
    {
     "name": "stderr",
     "output_type": "stream",
     "text": [
      "rtf_avg: 0.215: 100%|\u001b[34m██████████\u001b[0m| 1/1 [00:00<00:00,  7.61it/s]                                                                                          \n"
     ]
    },
    {
     "name": "stdout",
     "output_type": "stream",
     "text": [
      "[{'key': 'rand_key_NO6n9JEC3HqdZ', 'text': '体验达'}]\n"
     ]
    },
    {
     "name": "stderr",
     "output_type": "stream",
     "text": [
      "rtf_avg: 0.203: 100%|\u001b[34m██████████\u001b[0m| 1/1 [00:00<00:00,  8.15it/s]                                                                                          \n"
     ]
    },
    {
     "name": "stdout",
     "output_type": "stream",
     "text": [
      "[{'key': 'rand_key_6J6afU1zT0YQO', 'text': '摩院推'}]\n"
     ]
    },
    {
     "name": "stderr",
     "output_type": "stream",
     "text": [
      "rtf_avg: 0.192: 100%|\u001b[34m██████████\u001b[0m| 1/1 [00:00<00:00,  8.55it/s]                                                                                          \n"
     ]
    },
    {
     "name": "stdout",
     "output_type": "stream",
     "text": [
      "[{'key': 'rand_key_aNF03vpUuT3em', 'text': '出的语'}]\n"
     ]
    },
    {
     "name": "stderr",
     "output_type": "stream",
     "text": [
      "rtf_avg: 0.216: 100%|\u001b[34m██████████\u001b[0m| 1/1 [00:00<00:00,  7.57it/s]                                                                                          \n"
     ]
    },
    {
     "name": "stdout",
     "output_type": "stream",
     "text": [
      "[{'key': 'rand_key_6KopZ9jZICffu', 'text': '音识'}]\n"
     ]
    },
    {
     "name": "stderr",
     "output_type": "stream",
     "text": [
      "rtf_avg: 0.191: 100%|\u001b[34m██████████\u001b[0m| 1/1 [00:00<00:00,  8.62it/s]                                                                                          \n"
     ]
    },
    {
     "name": "stdout",
     "output_type": "stream",
     "text": [
      "[{'key': 'rand_key_4G7FgtJsThJv0', 'text': '别模型'}]\n"
     ]
    },
    {
     "name": "stderr",
     "output_type": "stream",
     "text": [
      "rtf_avg: 0.587: 100%|\u001b[34m██████████\u001b[0m| 1/1 [00:00<00:00,  9.27it/s]                                                                                          "
     ]
    },
    {
     "name": "stdout",
     "output_type": "stream",
     "text": [
      "[{'key': 'rand_key_7In9ZMJLsCfMZ', 'text': ''}]\n"
     ]
    },
    {
     "name": "stderr",
     "output_type": "stream",
     "text": [
      "\n"
     ]
    }
   ],
   "source": [
    "import os\n",
    "import soundfile\n",
    "from funasr import AutoModel\n",
    "\n",
    "chunk_size = [0, 10, 5]  # [0, 10, 5] 600ms, [0, 8, 4] 480ms\n",
    "encoder_chunk_look_back = 4\n",
    "decoder_chunk_look_back = 1\n",
    "\n",
    "model = AutoModel(model=\"paraformer-zh-streaming\")\n",
    "\n",
    "wav_file = os.path.join(model.model_path, \"example/asr_example.wav\")\n",
    "speech, sample_rate = soundfile.read(wav_file)\n",
    "chunk_stride = chunk_size[1] * 960  # 600ms\n",
    "\n",
    "cache = {}\n",
    "total_chunk_num = int(len((speech) - 1) / chunk_stride + 1)\n",
    "for i in range(total_chunk_num):\n",
    "    speech_chunk = speech[i * chunk_stride : (i + 1) * chunk_stride]\n",
    "    is_final = i == total_chunk_num - 1\n",
    "    res = model.generate(\n",
    "        input=speech_chunk,\n",
    "        cache=cache,\n",
    "        is_final=is_final,\n",
    "        chunk_size=chunk_size,\n",
    "        encoder_chunk_look_back=encoder_chunk_look_back,\n",
    "        decoder_chunk_look_back=decoder_chunk_look_back,\n",
    "    )\n",
    "    print(res)"
   ]
  }
 ],
 "metadata": {
  "kernelspec": {
   "display_name": ".venv",
   "language": "python",
   "name": "python3"
  },
  "language_info": {
   "codemirror_mode": {
    "name": "ipython",
    "version": 3
   },
   "file_extension": ".py",
   "mimetype": "text/x-python",
   "name": "python",
   "nbconvert_exporter": "python",
   "pygments_lexer": "ipython3",
   "version": "3.10.11"
  }
 },
 "nbformat": 4,
 "nbformat_minor": 5
}
