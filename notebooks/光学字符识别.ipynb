{
 "cells": [
  {
   "cell_type": "code",
   "execution_count": 2,
   "id": "d08d65a5",
   "metadata": {},
   "outputs": [
    {
     "name": "stderr",
     "output_type": "stream",
     "text": [
      "Neither CUDA nor MPS are available - defaulting to CPU. Note: This module is much faster with a GPU.\n"
     ]
    }
   ],
   "source": [
    "import easyocr\n",
    "reader = easyocr.Reader(['ch_sim','en']) # 这只需要运行一次即可将模型加载到内存中\n",
    "result = reader.readtext('../images/general_ocr_002.png')"
   ]
  },
  {
   "cell_type": "code",
   "execution_count": 10,
   "id": "2d27a750",
   "metadata": {},
   "outputs": [
    {
     "name": "stdout",
     "output_type": "stream",
     "text": [
      "I 8 登 机  牌 BOARDING PASS 航班 FLIGHT 日期 DATE 舱位 CLASS 序号 SERIAL NO. 座位号 SEAT N0 W 2379 03DEC 熨 035 目的地 T0 始发地 FROM 登机口 GATE 登机时间 BDT 福州 TAIYUAN 41 FUZHOU 身份识别10 N0。 姓名 NAME ZIANGOI E 票号 TKT NO。 张祺伟 票价 FARE ETII 78136592384391 登机口于起飞前10分钟关闭 GATES CLOSE 10 WINUTES BEFORE DEPARTURE TIlE\n"
     ]
    }
   ],
   "source": [
    "res_list = []\n",
    "for res in result:\n",
    "    res_list.append(res[1])\n",
    "\n",
    "print(\" \".join(res_list))"
   ]
  }
 ],
 "metadata": {
  "kernelspec": {
   "display_name": ".venv",
   "language": "python",
   "name": "python3"
  },
  "language_info": {
   "codemirror_mode": {
    "name": "ipython",
    "version": 3
   },
   "file_extension": ".py",
   "mimetype": "text/x-python",
   "name": "python",
   "nbconvert_exporter": "python",
   "pygments_lexer": "ipython3",
   "version": "3.10.11"
  }
 },
 "nbformat": 4,
 "nbformat_minor": 5
}
