{
 "cells": [
  {
   "cell_type": "markdown",
   "id": "907854a6",
   "metadata": {},
   "source": [
    "### 加载模型"
   ]
  },
  {
   "cell_type": "code",
   "execution_count": 1,
   "id": "ae2ff062",
   "metadata": {},
   "outputs": [],
   "source": [
    "from langchain_openai import ChatOpenAI\n",
    "\n",
    "llm = ChatOpenAI(\n",
    "    model=\"shmily_006/Qw3\",\n",
    "    base_url=\"http://localhost:11434/v1\",\n",
    "    api_key=\"EMPTY\",\n",
    ")"
   ]
  },
  {
   "cell_type": "markdown",
   "id": "02756181",
   "metadata": {},
   "source": [
    "### 用大模型做文本分类"
   ]
  },
  {
   "cell_type": "code",
   "execution_count": 2,
   "id": "2365bfb6",
   "metadata": {},
   "outputs": [],
   "source": [
    "from langchain_core.prompts import ChatPromptTemplate\n",
    "from pydantic import BaseModel, Field\n",
    "\n",
    "tagging_prompt = ChatPromptTemplate.from_template(\n",
    "    \"\"\"\n",
    "从以下段落中提取所需的信息。\n",
    "\n",
    "仅提取 'Classification' 函数中提到的属性。\n",
    "\n",
    "内容：\n",
    "{input}\n",
    "\"\"\"\n",
    ")\n",
    "\n",
    "\n",
    "class Classification(BaseModel):\n",
    "    sentiment: str = Field(description=\"情绪标签\")\n",
    "    aggressiveness: int = Field(\n",
    "        description=\"文本在 1 到 10 范围内的情绪激进程度\"\n",
    "    )\n",
    "    language: str = Field(description=\"语言\")\n",
    "\n",
    "\n",
    "# 大模型结构化输出\n",
    "structured_llm = llm.with_structured_output(Classification)"
   ]
  },
  {
   "cell_type": "code",
   "execution_count": 3,
   "id": "f0ffc617",
   "metadata": {},
   "outputs": [
    {
     "data": {
      "text/plain": [
       "Classification(sentiment='positive', aggressiveness=0, language='Chinese')"
      ]
     },
     "execution_count": 3,
     "metadata": {},
     "output_type": "execute_result"
    }
   ],
   "source": [
    "inp = \"我非常高兴认识了你！我想我们会成为真正的好朋友！\"\n",
    "prompt = tagging_prompt.invoke({\"input\": inp})\n",
    "response = structured_llm.invoke(prompt)\n",
    "\n",
    "response"
   ]
  },
  {
   "cell_type": "code",
   "execution_count": 6,
   "id": "895cec7b",
   "metadata": {},
   "outputs": [
    {
     "data": {
      "text/plain": [
       "{'sentiment': 'negative', 'aggressiveness': 2, 'language': 'Chinese'}"
      ]
     },
     "execution_count": 6,
     "metadata": {},
     "output_type": "execute_result"
    }
   ],
   "source": [
    "inp = \"我对你很生气！！\"\n",
    "prompt = tagging_prompt.invoke({\"input\": inp})\n",
    "response = structured_llm.invoke(prompt)\n",
    "\n",
    "response.model_dump()"
   ]
  },
  {
   "cell_type": "markdown",
   "id": "4d5ab011",
   "metadata": {},
   "source": [
    "### 更精细化的文本分类"
   ]
  },
  {
   "cell_type": "code",
   "execution_count": 7,
   "id": "2d2b399a",
   "metadata": {},
   "outputs": [],
   "source": [
    "class Classification(BaseModel):\n",
    "    sentiment: str = Field(..., enum=[\"开心\", \"中性\", \"伤心\"])\n",
    "    aggressiveness: int = Field(\n",
    "        ...,\n",
    "        description=\"描述语句的情绪激进程度，数字越高，越激进\",\n",
    "        enum=[1, 2, 3, 4, 5],\n",
    "    )\n",
    "    language: str = Field(\n",
    "        ..., enum=[\"西班牙语\", \"英语\", \"法语\", \"德语\", \"中文\"]\n",
    "    )"
   ]
  },
  {
   "cell_type": "code",
   "execution_count": 8,
   "id": "f3022c07",
   "metadata": {},
   "outputs": [],
   "source": [
    "tagging_prompt = ChatPromptTemplate.from_template(\n",
    "    \"\"\"\n",
    "从以下段落中提取所需的信息。\n",
    "\n",
    "仅提取 'Classification' 函数中提到的属性。\n",
    "\n",
    "内容：\n",
    "{input}\n",
    "\"\"\"\n",
    ")\n",
    "\n",
    "llm = llm = ChatOpenAI(\n",
    "    model=\"shmily_006/Qw3\",\n",
    "    base_url=\"http://localhost:11434/v1\",\n",
    "    api_key=\"EMPTY\",\n",
    ").with_structured_output(Classification)"
   ]
  },
  {
   "cell_type": "code",
   "execution_count": 9,
   "id": "19b75791",
   "metadata": {},
   "outputs": [
    {
     "data": {
      "text/plain": [
       "Classification(sentiment='开心', aggressiveness=1, language='中文')"
      ]
     },
     "execution_count": 9,
     "metadata": {},
     "output_type": "execute_result"
    }
   ],
   "source": [
    "inp = \"我非常高兴认识了你！我想我们会成为非常好的朋友！\"\n",
    "prompt = tagging_prompt.invoke({\"input\": inp})\n",
    "llm.invoke(prompt)"
   ]
  },
  {
   "cell_type": "code",
   "execution_count": 10,
   "id": "0402e145",
   "metadata": {},
   "outputs": [
    {
     "data": {
      "text/plain": [
       "Classification(sentiment='伤心', aggressiveness=2, language='中文')"
      ]
     },
     "execution_count": 10,
     "metadata": {},
     "output_type": "execute_result"
    }
   ],
   "source": [
    "inp = \"我对你很生气！\"\n",
    "prompt = tagging_prompt.invoke({\"input\": inp})\n",
    "llm.invoke(prompt)"
   ]
  },
  {
   "cell_type": "code",
   "execution_count": 11,
   "id": "6aace979",
   "metadata": {},
   "outputs": [
    {
     "data": {
      "text/plain": [
       "Classification(sentiment='中性', aggressiveness=1, language='中文')"
      ]
     },
     "execution_count": 11,
     "metadata": {},
     "output_type": "execute_result"
    }
   ],
   "source": [
    "inp = \"这里的天气还不错\"\n",
    "prompt = tagging_prompt.invoke({\"input\": inp})\n",
    "llm.invoke(prompt)"
   ]
  }
 ],
 "metadata": {
  "kernelspec": {
   "display_name": "python-data-science",
   "language": "python",
   "name": "python3"
  },
  "language_info": {
   "codemirror_mode": {
    "name": "ipython",
    "version": 3
   },
   "file_extension": ".py",
   "mimetype": "text/x-python",
   "name": "python",
   "nbconvert_exporter": "python",
   "pygments_lexer": "ipython3",
   "version": "3.10.11"
  }
 },
 "nbformat": 4,
 "nbformat_minor": 5
}
