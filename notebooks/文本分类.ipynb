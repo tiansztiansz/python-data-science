{
 "cells": [
  {
   "cell_type": "markdown",
   "id": "41f3a2b5",
   "metadata": {},
   "source": [
    "#### 数据预处理"
   ]
  },
  {
   "cell_type": "code",
   "execution_count": null,
   "id": "5119b5ea",
   "metadata": {},
   "outputs": [
    {
     "name": "stderr",
     "output_type": "stream",
     "text": [
      "c:\\Users\\18664\\Desktop\\python-data-science\\.venv\\lib\\site-packages\\tqdm\\auto.py:21: TqdmWarning: IProgress not found. Please update jupyter and ipywidgets. See https://ipywidgets.readthedocs.io/en/stable/user_install.html\n",
      "  from .autonotebook import tqdm as notebook_tqdm\n"
     ]
    }
   ],
   "source": [
    "# uv 环境下可运行如下命令下载模型：\n",
    "# uv run modelscope download --model pengzhendong/chinese-lert-base --local_dir models/chinese-lert-base\n",
    "\n",
    "import evaluate\n",
    "import numpy as np\n",
    "from datasets import load_dataset\n",
    "from transformers import AutoModelForSequenceClassification\n",
    "from transformers import AutoTokenizer\n",
    "from transformers import DataCollatorWithPadding\n",
    "from transformers import TrainingArguments, Trainer"
   ]
  },
  {
   "cell_type": "code",
   "execution_count": 2,
   "id": "254b81aa",
   "metadata": {},
   "outputs": [],
   "source": [
    "EPOCHS = 5  # 模型学习训练集的轮次\n",
    "BATCH_SIZE = 4  # 模型并行学习的样本数量\n",
    "LABEL_HEADER = \"sentiment\"  # 标签的表头名\n",
    "TEXT_HEADER = \"text_a\"  # 文本句子的表头名\n",
    "PRETRAINED_MODEL_NAME_OR_PATH = \"../models/chinese-lert-base\"  # 预训练模型路径\n",
    "CSV_PATH = (\n",
    "    \"../datasets/label_studio文本分类数据集.csv\"  # label-studio标注的文本分类数据集路径\n",
    ")\n",
    "OUPUT_CHECKPOINT_PATH = \"../models/text_classification_checkpoint\"  # 训练过程中产生的模型文件\n",
    "OUTPUT_MODEL_PATH = \"../models/text_classification_model\"  # 微调后的文本分类模型路径\n",
    "VAL_SIZE = 0.1  # 验证集的占比\n",
    "MAX_LENGTH = 256  # 输入文本的token长度，lert模型最大只能是512\n",
    "ACCURACY_PATH = \"../common/accuracy.py\"  # 评估脚本本地路径"
   ]
  },
  {
   "cell_type": "code",
   "execution_count": 3,
   "id": "7a131fd8",
   "metadata": {},
   "outputs": [
    {
     "name": "stdout",
     "output_type": "stream",
     "text": [
      "DatasetDict({\n",
      "    train: Dataset({\n",
      "        features: ['label', 'text'],\n",
      "        num_rows: 99\n",
      "    })\n",
      "})\n"
     ]
    }
   ],
   "source": [
    "# 从本地加载数据集\n",
    "dataset = load_dataset(\"csv\", data_files=CSV_PATH)\n",
    "dataset = dataset.select_columns([LABEL_HEADER, TEXT_HEADER])\n",
    "dataset = dataset.rename_column(LABEL_HEADER, \"label\")\n",
    "dataset = dataset.rename_column(TEXT_HEADER, \"text\")\n",
    "print(dataset)"
   ]
  },
  {
   "cell_type": "code",
   "execution_count": 4,
   "id": "1b4c7f74",
   "metadata": {},
   "outputs": [
    {
     "name": "stdout",
     "output_type": "stream",
     "text": [
      "文本分类映射关系： {'其他': 0, '差评': 1, '好评': 2}\n"
     ]
    }
   ],
   "source": [
    "# 获取标签和数字的映射关系\n",
    "labels = dataset[\"train\"][\"label\"]\n",
    "id2label = {}\n",
    "label2id = {}\n",
    "unique_labels = set(labels)\n",
    "num_labels = len(unique_labels)\n",
    "for index, label in enumerate(unique_labels):\n",
    "    id2label[index] = label\n",
    "    label2id[label] = index\n",
    "print(\"文本分类映射关系：\", label2id)"
   ]
  },
  {
   "cell_type": "code",
   "execution_count": 5,
   "id": "daf00a81",
   "metadata": {},
   "outputs": [
    {
     "name": "stderr",
     "output_type": "stream",
     "text": [
      "Map: 100%|██████████| 89/89 [00:00<00:00, 6357.50 examples/s]\n",
      "Map: 100%|██████████| 10/10 [00:00<00:00, 1428.82 examples/s]\n"
     ]
    }
   ],
   "source": [
    "# 将中文标签转换为数字\n",
    "dataset = dataset.map(\n",
    "    lambda str_value: {\"label\": label2id[str_value]}, input_columns=\"label\"\n",
    ")\n",
    "\n",
    "# 拆分训练集和验证集\n",
    "splits = dataset[\"train\"].train_test_split(test_size=VAL_SIZE)\n",
    "\n",
    "# 加载文本转数字工具\n",
    "tokenizer = AutoTokenizer.from_pretrained(\n",
    "    PRETRAINED_MODEL_NAME_OR_PATH,\n",
    "    use_fast=True,\n",
    "    max_length=MAX_LENGTH,\n",
    "    truncation=True,\n",
    "    padding=\"max_length\",\n",
    ")\n",
    "\n",
    "\n",
    "# 定义文本转数字的函数，其中设置了过长文本的截断\n",
    "def preprocess_function(examples):\n",
    "    return tokenizer(examples[\"text\"])\n",
    "\n",
    "\n",
    "tokenized_imdb = splits.map(preprocess_function, batched=True)\n",
    "\n",
    "# 设置短文本动态填充的参数\n",
    "data_collator = DataCollatorWithPadding(tokenizer=tokenizer)"
   ]
  },
  {
   "cell_type": "markdown",
   "id": "1c8e1a3c",
   "metadata": {},
   "source": [
    "#### 模型微调"
   ]
  },
  {
   "cell_type": "code",
   "execution_count": 6,
   "id": "8430896d",
   "metadata": {},
   "outputs": [],
   "source": [
    "accuracy = evaluate.load(ACCURACY_PATH)\n",
    "\n",
    "# 定义评估模型的函数\n",
    "def compute_metrics(eval_pred):\n",
    "    predictions, labels = eval_pred\n",
    "    predictions = np.argmax(predictions, axis=1)\n",
    "    return accuracy.compute(predictions=predictions, references=labels)"
   ]
  },
  {
   "cell_type": "code",
   "execution_count": 7,
   "id": "21ce0fec",
   "metadata": {},
   "outputs": [
    {
     "name": "stderr",
     "output_type": "stream",
     "text": [
      "Some weights of BertForSequenceClassification were not initialized from the model checkpoint at ../models/chinese-lert-base and are newly initialized: ['classifier.bias', 'classifier.weight']\n",
      "You should probably TRAIN this model on a down-stream task to be able to use it for predictions and inference.\n",
      "C:\\Users\\18664\\AppData\\Local\\Temp\\ipykernel_12164\\3595756665.py:28: FutureWarning: `tokenizer` is deprecated and will be removed in version 5.0.0 for `Trainer.__init__`. Use `processing_class` instead.\n",
      "  trainer = Trainer(\n",
      "c:\\Users\\18664\\Desktop\\python-data-science\\.venv\\lib\\site-packages\\torch\\utils\\data\\dataloader.py:665: UserWarning: 'pin_memory' argument is set as true but no accelerator is found, then device pinned memory won't be used.\n",
      "  warnings.warn(warn_msg)\n"
     ]
    },
    {
     "data": {
      "text/html": [
       "\n",
       "    <div>\n",
       "      \n",
       "      <progress value='115' max='115' style='width:300px; height:20px; vertical-align: middle;'></progress>\n",
       "      [115/115 02:16, Epoch 5/5]\n",
       "    </div>\n",
       "    <table border=\"1\" class=\"dataframe\">\n",
       "  <thead>\n",
       " <tr style=\"text-align: left;\">\n",
       "      <th>Epoch</th>\n",
       "      <th>Training Loss</th>\n",
       "      <th>Validation Loss</th>\n",
       "      <th>Accuracy</th>\n",
       "    </tr>\n",
       "  </thead>\n",
       "  <tbody>\n",
       "    <tr>\n",
       "      <td>1</td>\n",
       "      <td>No log</td>\n",
       "      <td>0.950046</td>\n",
       "      <td>0.700000</td>\n",
       "    </tr>\n",
       "    <tr>\n",
       "      <td>2</td>\n",
       "      <td>No log</td>\n",
       "      <td>0.779834</td>\n",
       "      <td>0.600000</td>\n",
       "    </tr>\n",
       "    <tr>\n",
       "      <td>3</td>\n",
       "      <td>No log</td>\n",
       "      <td>0.718241</td>\n",
       "      <td>0.700000</td>\n",
       "    </tr>\n",
       "    <tr>\n",
       "      <td>4</td>\n",
       "      <td>No log</td>\n",
       "      <td>0.758033</td>\n",
       "      <td>0.700000</td>\n",
       "    </tr>\n",
       "    <tr>\n",
       "      <td>5</td>\n",
       "      <td>No log</td>\n",
       "      <td>0.726873</td>\n",
       "      <td>0.700000</td>\n",
       "    </tr>\n",
       "  </tbody>\n",
       "</table><p>"
      ],
      "text/plain": [
       "<IPython.core.display.HTML object>"
      ]
     },
     "metadata": {},
     "output_type": "display_data"
    },
    {
     "name": "stderr",
     "output_type": "stream",
     "text": [
      "c:\\Users\\18664\\Desktop\\python-data-science\\.venv\\lib\\site-packages\\torch\\utils\\data\\dataloader.py:665: UserWarning: 'pin_memory' argument is set as true but no accelerator is found, then device pinned memory won't be used.\n",
      "  warnings.warn(warn_msg)\n",
      "c:\\Users\\18664\\Desktop\\python-data-science\\.venv\\lib\\site-packages\\torch\\utils\\data\\dataloader.py:665: UserWarning: 'pin_memory' argument is set as true but no accelerator is found, then device pinned memory won't be used.\n",
      "  warnings.warn(warn_msg)\n",
      "c:\\Users\\18664\\Desktop\\python-data-science\\.venv\\lib\\site-packages\\torch\\utils\\data\\dataloader.py:665: UserWarning: 'pin_memory' argument is set as true but no accelerator is found, then device pinned memory won't be used.\n",
      "  warnings.warn(warn_msg)\n",
      "c:\\Users\\18664\\Desktop\\python-data-science\\.venv\\lib\\site-packages\\torch\\utils\\data\\dataloader.py:665: UserWarning: 'pin_memory' argument is set as true but no accelerator is found, then device pinned memory won't be used.\n",
      "  warnings.warn(warn_msg)\n"
     ]
    },
    {
     "data": {
      "text/plain": [
       "('../models/text_classification_model\\\\tokenizer_config.json',\n",
       " '../models/text_classification_model\\\\special_tokens_map.json',\n",
       " '../models/text_classification_model\\\\vocab.txt',\n",
       " '../models/text_classification_model\\\\added_tokens.json',\n",
       " '../models/text_classification_model\\\\tokenizer.json')"
      ]
     },
     "execution_count": 7,
     "metadata": {},
     "output_type": "execute_result"
    }
   ],
   "source": [
    "# 加载预训练模型，将其应用文本分类任务\n",
    "model = AutoModelForSequenceClassification.from_pretrained(\n",
    "    PRETRAINED_MODEL_NAME_OR_PATH,\n",
    "    num_labels=num_labels,\n",
    "    id2label=id2label,\n",
    "    label2id=label2id,\n",
    ")\n",
    "\n",
    "# 使得模型的tensor连续，避免报错\n",
    "for param in model.parameters():\n",
    "    param.data = param.data.contiguous()\n",
    "\n",
    "# 定义模型训练参数\n",
    "training_args = TrainingArguments(\n",
    "    output_dir=OUPUT_CHECKPOINT_PATH,\n",
    "    learning_rate=2e-5,\n",
    "    per_device_train_batch_size=BATCH_SIZE,\n",
    "    per_device_eval_batch_size=BATCH_SIZE,\n",
    "    num_train_epochs=EPOCHS,\n",
    "    weight_decay=0.01,\n",
    "    eval_strategy=\"epoch\",\n",
    "    save_strategy=\"epoch\",\n",
    "    load_best_model_at_end=True,\n",
    "    save_total_limit=1,\n",
    "    fp16=True,\n",
    ")\n",
    "\n",
    "trainer = Trainer(\n",
    "    model=model,\n",
    "    args=training_args,\n",
    "    train_dataset=tokenized_imdb[\"train\"],\n",
    "    eval_dataset=tokenized_imdb[\"test\"],\n",
    "    tokenizer=tokenizer,\n",
    "    data_collator=data_collator,\n",
    "    compute_metrics=compute_metrics,\n",
    ")\n",
    "\n",
    "trainer.train()\n",
    "model.half()\n",
    "model.save_pretrained(OUTPUT_MODEL_PATH)\n",
    "tokenizer.save_pretrained(OUTPUT_MODEL_PATH)"
   ]
  },
  {
   "cell_type": "markdown",
   "id": "76be3ee1",
   "metadata": {},
   "source": [
    "#### 模型推理"
   ]
  },
  {
   "cell_type": "code",
   "execution_count": 8,
   "id": "21db40db",
   "metadata": {},
   "outputs": [
    {
     "name": "stderr",
     "output_type": "stream",
     "text": [
      "Device set to use cpu\n"
     ]
    }
   ],
   "source": [
    "import torch\n",
    "from transformers import pipeline\n",
    " \n",
    "classifier = pipeline(\n",
    "    task=\"text-classification\",\n",
    "    model=OUTPUT_MODEL_PATH,\n",
    "    truncation=True,\n",
    "    max_length=MAX_LENGTH,\n",
    "    padding=\"max_length\",\n",
    "    torch_dtype=torch.float16\n",
    ")"
   ]
  },
  {
   "cell_type": "code",
   "execution_count": 9,
   "id": "7374625d",
   "metadata": {},
   "outputs": [
    {
     "name": "stdout",
     "output_type": "stream",
     "text": [
      "[{'label': '好评', 'score': 0.7231137156486511}]\n"
     ]
    }
   ],
   "source": [
    "print(classifier(\"猩红女巫美哭了，为何要弄我大快银 嘤嘤嘤\"))"
   ]
  }
 ],
 "metadata": {
  "kernelspec": {
   "display_name": ".venv",
   "language": "python",
   "name": "python3"
  },
  "language_info": {
   "codemirror_mode": {
    "name": "ipython",
    "version": 3
   },
   "file_extension": ".py",
   "mimetype": "text/x-python",
   "name": "python",
   "nbconvert_exporter": "python",
   "pygments_lexer": "ipython3",
   "version": "3.10.11"
  }
 },
 "nbformat": 4,
 "nbformat_minor": 5
}
