{
 "cells": [
  {
   "cell_type": "code",
   "execution_count": 3,
   "id": "11a778cd",
   "metadata": {},
   "outputs": [],
   "source": [
    "import getpass\n",
    "import os\n",
    "\n",
    "if not os.environ.get(\"TAVILY_API_KEY\"):\n",
    "  os.environ[\"TAVILY_API_KEY\"] = getpass.getpass(\"请输入TAVILY_API_KEY: \")"
   ]
  },
  {
   "cell_type": "code",
   "execution_count": 5,
   "id": "86919dde",
   "metadata": {},
   "outputs": [],
   "source": [
    "# 导入相关功能\n",
    "from langchain_openai import ChatOpenAI\n",
    "from langchain_tavily import TavilySearch\n",
    "from langgraph.checkpoint.memory import MemorySaver\n",
    "from langgraph.prebuilt import create_react_agent\n",
    "\n",
    "# 创建 agent\n",
    "memory = MemorySaver()\n",
    "model = ChatOpenAI(\n",
    "    model=\"shmily_006/Qw3\",\n",
    "    base_url=\"http://localhost:11434/v1\",\n",
    "    api_key=\"EMPTY\",\n",
    ")\n",
    "search = TavilySearch(max_results=2)\n",
    "tools = [search]\n",
    "agent_executor = create_react_agent(model, tools, checkpointer=memory)"
   ]
  },
  {
   "cell_type": "code",
   "execution_count": 6,
   "id": "ca7c2c0d",
   "metadata": {},
   "outputs": [
    {
     "name": "stdout",
     "output_type": "stream",
     "text": [
      "================================\u001b[1m Human Message \u001b[0m=================================\n",
      "\n",
      "嗨，我是 Bob，我住在深圳。\n",
      "==================================\u001b[1m Ai Message \u001b[0m==================================\n",
      "\n",
      "你好，Bob！很高兴认识你。你住在深圳，那里是一个美丽的城市，有繁华的都市生活和丰富的文化。有什么我可以帮你的吗？\n"
     ]
    }
   ],
   "source": [
    "# 使用 agent\n",
    "config = {\"configurable\": {\"thread_id\": \"abc123\"}}\n",
    "\n",
    "input_message = {\n",
    "    \"role\": \"user\",\n",
    "    \"content\": \"嗨，我是 Bob，我住在深圳。\",\n",
    "}\n",
    "for step in agent_executor.stream(\n",
    "    {\"messages\": [input_message]}, config, stream_mode=\"values\"\n",
    "):\n",
    "    step[\"messages\"][-1].pretty_print()"
   ]
  },
  {
   "cell_type": "code",
   "execution_count": 7,
   "id": "50aabb51",
   "metadata": {},
   "outputs": [
    {
     "name": "stdout",
     "output_type": "stream",
     "text": [
      "================================\u001b[1m Human Message \u001b[0m=================================\n",
      "\n",
      "我住的地方天气怎么样？\n",
      "==================================\u001b[1m Ai Message \u001b[0m==================================\n",
      "Tool Calls:\n",
      "  tavily_search (call_dz5na9ep)\n",
      " Call ID: call_dz5na9ep\n",
      "  Args:\n",
      "    include_domains: ['weather.com', 'forecast.io']\n",
      "    include_images: True\n",
      "    query: 深圳的天气情况\n",
      "    search_depth: advanced\n",
      "    time_range: year\n",
      "    topic: general\n",
      "=================================\u001b[1m Tool Message \u001b[0m=================================\n",
      "Name: tavily_search\n",
      "\n",
      "{\"query\": \"深圳的天气情况\", \"follow_up_questions\": null, \"answer\": null, \"images\": [], \"results\": [{\"url\": \"https://weather.com/zh-CN/weather/tenday/l/5f0791acb410c70f6088e6f91c3cfaee1966c75533c46437a76a3cf20569f5ba\", \"title\": \"深圳市, 广东省10 天天气预报\", \"content\": \"## recents\\n\\n菜单\\n\\n## Products & Account\\n\\n### 特殊天气预报\\n\\n# 10 天天气-深圳市, 广东省\\n\\n## 今天白天\\n\\n## 周六 12 | 白天\\n\\n雷暴。 最高 31°C。 南 风 15 到 25 每 km / h 。 降雨几率 90%。\\n\\n## 周六 12 | 夜间\\n\\n阵雨。 最低 28°C。 南 风 10 到 15 每 km / h 。 降雨几率 60%。\\n\\n## 周日 13\\n\\n## 周日 13 | 白天\\n\\n上午阵雨。 最高 31°C。 西南偏南 风 15 到 25 每 km / h 。 降雨几率 60%。\\n\\n## 周日 13 | 夜间\\n\\n夜间晚些时候阵雨。 最低 28°C。 南 风 10 到 15 每 km / h 。 降雨几率 50%。\\n\\n## 周一 14\\n\\n## 周一 14 | 白天\\n\\n雷暴。 最高 32°C。 西南 风 10 到 15 每 km / h 。 降雨几率 70%。\\n\\n## 周一 14 | 夜间\\n\\n阴。 最低 28°C。 西南偏南 风 10 到 15 每 km / h 。\\n\\n## 周二 15\\n\\n## 周二 15 | 白天 [...] 阴。 最高 32°C。 西南 风 15 到 25 每 km / h 。\\n\\n## 周二 15 | 夜间\\n\\n夜间晚些时候阵雨。 最低 29°C。 西南偏南 风 10 到 15 每 km / h 。 降雨几率 40%。\\n\\n## 周三 16\\n\\n## 周三 16 | 白天\\n\\n上午阵雨。 最高 33°C。 西南 风 15 到 25 每 km / h 。 降雨几率 40%。\\n\\n## 周三 16 | 夜间\\n\\n夜间晚些时候阵雨。 最低 29°C。 西南偏南 风 15 到 25 每 km / h 。 降雨几率 40%。\\n\\n## 周四 17\\n\\n## 周四 17 | 白天\\n\\n大部多云。 最高 33°C。 西南 风 10 到 15 每 km / h 。\\n\\n## 周四 17 | 夜间\\n\\n深夜雷暴。 最低 28°C。 南 风 10 到 15 每 km / h 。 降雨几率 70%。\\n\\n## 周五 18\\n\\n## 周五 18 | 白天\\n\\n上午雷暴。 最高 32°C。 西南偏西 风 10 到 15 每 km / h 。 降雨几率 70%。\\n\\n## 周五 18 | 夜间 [...] 深夜雷暴。 最低 27°C。 东北 风 10 到 15 每 km / h 。 降雨几率 70%。\\n\\n## 周六 19\\n\\n## 周六 19 | 白天\\n\\n上午雷暴。 最高 33°C。 北 风 10 到 15 每 km / h 。 降雨几率 70%。\\n\\n## 周六 19 | 夜间\\n\\n雷暴。 最低 28°C。 东北 风 10 到 15 每 km / h 。 降雨几率 60%。\\n\\n## 周日 20\\n\\n## 周日 20 | 白天\\n\\n雷暴。 最高 32°C。 东北偏北 风 15 到 25 每 km / h 。 降雨几率 60%。\\n\\n## 周日 20 | 夜间\\n\\n雷暴。 最低 28°C。 东北偏北 风 15 到 25 每 km / h 。 降雨几率 60%。\\n\\n## 周一 21\\n\\n## 周一 21 | 白天\\n\\n雷暴。 最高 31°C。 北 风 15 到 25 每 km / h 。 降雨几率 60%。\\n\\n## 周一 21 | 夜间\\n\\n中雨有雷。 最低 27°C。 东南偏东 风 10 到 15 每 km / h 。 降雨几率 60%。\\n\\n## 周二 22\\n\\n## 周二 22 | 白天\", \"score\": 0.6952351, \"raw_content\": null}], \"response_time\": 4.81}\n",
      "==================================\u001b[1m Ai Message \u001b[0m==================================\n",
      "\n",
      "根据最新的天气预报，深圳的天气情况如下：\n",
      "\n",
      "- **今天（周六）**：\n",
      "  - 白天：雷暴，最高气温31°C，南风15到25 km/h，降雨几率90%。\n",
      "  - 夜间：阵雨，最低气温28°C，南风10到15 km/h，降雨几率60%。\n",
      "\n",
      "- **明天（周日）**：\n",
      "  - 白天：上午阵雨，最高气温31°C，西南偏南风15到25 km/h，降雨几率60%。\n",
      "  - 夜间：夜间晚些时候阵雨，最低气温28°C，南风10到15 km/h，降雨几率50%。\n",
      "\n",
      "- **后天（周一）**：\n",
      "  - 白天：雷暴，最高气温32°C，西南风10到15 km/h，降雨几率70%。\n",
      "  - 夜间：阴，最低气温28°C，西南偏南风10到15 km/h。\n",
      "\n",
      "- **本周的其他几天**：\n",
      "  - **周二**：阴，最高气温32°C，西南风15到25 km/h。\n",
      "  - **周三**：上午阵雨，最高气温33°C，西南风15到25 km/h，降雨几率40%。\n",
      "  - **周四**：大部多云，最高气温33°C，西南风10到15 km/h。\n",
      "  - **周五**：上午雷暴，最高气温32°C，西南偏西风10到15 km/h，降雨几率70%。\n",
      "  - **周六**：上午雷暴，最高气温33°C，北风10到15 km/h，降雨几率70%。\n",
      "  - **周日**：雷暴，最高气温32°C，东北偏北风15到25 km/h，降雨几率60%。\n",
      "  - **周一**：雷暴，最高气温31°C，北风15到25 km/h，降雨几率60%。\n",
      "  - **周二**：雷暴，最低气温27°C，东南偏东风10到15 km/h，降雨几率60%。\n",
      "\n",
      "**总结**：深圳的天气总体较为炎热，气温在31°C到33°C之间，周末可能会有雷暴和阵雨，建议外出时做好防雨准备。\n"
     ]
    }
   ],
   "source": [
    "input_message = {\n",
    "    \"role\": \"user\",\n",
    "    \"content\": \"我住的地方天气怎么样？\",\n",
    "}\n",
    "\n",
    "for step in agent_executor.stream(\n",
    "    {\"messages\": [input_message]}, config, stream_mode=\"values\"\n",
    "):\n",
    "    step[\"messages\"][-1].pretty_print()"
   ]
  }
 ],
 "metadata": {
  "kernelspec": {
   "display_name": "python-data-science",
   "language": "python",
   "name": "python3"
  },
  "language_info": {
   "codemirror_mode": {
    "name": "ipython",
    "version": 3
   },
   "file_extension": ".py",
   "mimetype": "text/x-python",
   "name": "python",
   "nbconvert_exporter": "python",
   "pygments_lexer": "ipython3",
   "version": "3.10.11"
  }
 },
 "nbformat": 4,
 "nbformat_minor": 5
}
