{
 "cells": [
  {
   "cell_type": "markdown",
   "id": "d0c66a4b",
   "metadata": {},
   "source": [
    "### 安装并设置searxng\n",
    "\n",
    "- 打开终端，运行 `wsl --install` 安装linux子系统\n",
    "- 接着安装docker，前往[官网](https://docs.docker.com/desktop/setup/install/windows-install/)下载并安装即可\n",
    "- 打开docker桌面程序，点击程序上方齿轮形状的设置图标，然后再点击左侧的`Docker Engine`设置栏，最后添加镜像源：`\"registry-mirrors\": [\"https://docker.1ms.run\"]`，添加完后即可点击`Apply`变成修改\n",
    "- 现在请创建如下文件夹：`mkdir -p ./searxng/config/ ./searxng/data/`，接着在searxng文件夹下打开终端，然后下载并运行searxng搜索引擎：`docker run --name searxng --restart=always -d -p 8888:8080 -v \"./config/:/etc/searxng/\" -v \"./data/:/var/cache/searxng/\" docker.io/searxng/searxng:latest`。最后打开`http://localhost:8888/`你应该能看到搜索引擎界面了\n",
    "- 在网页界面点击右上角的设置按钮，在搜索引擎中选择 bing、360search、baidu、sogou，然后保存设置并回到搜索界面，输入搜索内容并回车，你应该能看到返回结果\n",
    "- 注意上一步得到的结果是html格式的，我们调用接口需要用到json格式，所以打开`./searxng/config/settings.yml`，搜索`formats:`找到格式配置，在下方添加`- json`配置，接着你需要回到docker程序重启容器"
   ]
  },
  {
   "cell_type": "code",
   "execution_count": 1,
   "id": "d6abf2e6",
   "metadata": {},
   "outputs": [],
   "source": [
    "from datetime import date\n",
    "from typing import List\n",
    "\n",
    "from langchain_ollama import ChatOllama\n",
    "from langgraph.checkpoint.memory import MemorySaver\n",
    "from langgraph.prebuilt import create_react_agent\n",
    "from langchain_community.utilities import SearxSearchWrapper\n",
    "from langchain_core.tools import StructuredTool"
   ]
  },
  {
   "cell_type": "code",
   "execution_count": 2,
   "id": "ee912d42",
   "metadata": {},
   "outputs": [],
   "source": [
    "# ------------------ 工具 1：联网搜索 ------------------\n",
    "searx = SearxSearchWrapper(\n",
    "    searx_host=\"http://localhost:8888\", engines=[\"bing\", \"360search\", \"baidu\", \"sogou\"]\n",
    ")\n",
    "search_tool = StructuredTool.from_function(\n",
    "    func=searx.run, name=\"search\", description=\"通过多个中文搜索引擎查询实时信息\"\n",
    ")"
   ]
  },
  {
   "cell_type": "code",
   "execution_count": 3,
   "id": "b6ed6d97",
   "metadata": {},
   "outputs": [],
   "source": [
    "# ------------------ 工具 2：获取当天日期 ------------------\n",
    "@StructuredTool.from_function\n",
    "def today(_: str = \"\") -> str:\n",
    "    \"\"\"返回今天的日期，格式 yyyy-mm-dd\"\"\"\n",
    "    return str(date.today())"
   ]
  },
  {
   "cell_type": "code",
   "execution_count": 4,
   "id": "c5b8fab2",
   "metadata": {},
   "outputs": [],
   "source": [
    "# ------------------ 初始化 Agent ------------------\n",
    "memory = MemorySaver()\n",
    "model = ChatOllama(model=\"qwen2.5\", temperature=0)\n",
    "agent_executor = create_react_agent(\n",
    "    model, tools=[search_tool, today], checkpointer=memory\n",
    ")"
   ]
  },
  {
   "cell_type": "code",
   "execution_count": 5,
   "id": "d161589c",
   "metadata": {},
   "outputs": [],
   "source": [
    "# ------------------ 统一对话封装 ------------------\n",
    "def run_chat(questions: List[str], thread_id: str = \"abc123\") -> None:\n",
    "    \"\"\"\n",
    "    批量提问，自动流式输出并打印最终结果。\n",
    "    :param questions: 用户问题列表\n",
    "    :param thread_id: 用于记忆隔离\n",
    "    \"\"\"\n",
    "    config = {\"configurable\": {\"thread_id\": thread_id}}\n",
    "    for q in questions:\n",
    "        for step in agent_executor.stream(\n",
    "            {\"messages\": [{\"role\": \"user\", \"content\": q}]},\n",
    "            config=config,\n",
    "            stream_mode=\"values\",\n",
    "        ):\n",
    "            step[\"messages\"][-1].pretty_print()"
   ]
  },
  {
   "cell_type": "code",
   "execution_count": 6,
   "id": "f749a199",
   "metadata": {},
   "outputs": [
    {
     "name": "stdout",
     "output_type": "stream",
     "text": [
      "================================\u001b[1m Human Message \u001b[0m=================================\n",
      "\n",
      "今天是几号？\n",
      "==================================\u001b[1m Ai Message \u001b[0m==================================\n",
      "Tool Calls:\n",
      "  today (868d6d99-826c-44d3-a296-1b8cc1b4d8c5)\n",
      " Call ID: 868d6d99-826c-44d3-a296-1b8cc1b4d8c5\n",
      "  Args:\n",
      "=================================\u001b[1m Tool Message \u001b[0m=================================\n",
      "Name: today\n",
      "\n",
      "2025-07-13\n",
      "==================================\u001b[1m Ai Message \u001b[0m==================================\n",
      "\n",
      "今天是2025年7月13日。\n",
      "================================\u001b[1m Human Message \u001b[0m=================================\n",
      "\n",
      "深圳近期天气\n",
      "==================================\u001b[1m Ai Message \u001b[0m==================================\n",
      "Tool Calls:\n",
      "  search (84f3f71a-8ced-488c-873f-8803f17c6ab7)\n",
      " Call ID: 84f3f71a-8ced-488c-873f-8803f17c6ab7\n",
      "  Args:\n",
      "    query: 深圳近期天气\n",
      "=================================\u001b[1m Tool Message \u001b[0m=================================\n",
      "Name: search\n",
      "\n",
      "深圳天气预报,及时准确发布中央气象台天气信息,便捷查询深圳今日天气,深圳周末天气,深圳一周天气预报,深圳蓝天预报,深圳天气预报,深圳40日天气预报,还提供深圳的生活指数、健康指数、交通指数、旅游指数,及时发布深圳气象预警信号、各类气象资讯。\n",
      "\n",
      "\n",
      "\n",
      "深圳市气象局门户网站为您提供权威、及时、准确的深圳天气预警、天气预报、天气实况、台风路径、深圳气候等信息服务,为深圳及其周边城市的生产生活提供全面可靠的气象服务\n",
      "\n",
      "20小时前-深圳 阴 26 ~ 29 ℃ > 珠海 阴 24 ~ 29 ℃ > 佛山 阴 26 ~ 30 ℃ > 肇庆 中雨 25 ~ 30 ℃ > 湛江 多云 26 ~ 31 ℃ > 江门 阴 26 ~ 30 ℃ > 河源 小雨 25 ~ 28 ℃ > 清远 大雨 26 ~ 30 ℃ > 云浮 小雨 25 ~ 30 ℃ > 潮州 多云 26 ~ 30 ℃ > 东莞 阴 26 ~ 29 ℃ > 中山 阴 25 ~ 30 ℃...\n",
      "\n",
      "深圳天气预报 一周天气 10天天气 15天天气 30天天气 40天天气 星期日 星期一 星期二 星期三 星期四 星期五 星期六 07-06星期日 28~37℃小雨 07-07星期一 29~36℃多云 07-08星期二 29~34℃阴 07-09星期三 29~35℃中雨 07-10星期四 26~30℃中雨 ...\n",
      "\n",
      "21小时前- 深圳天气网为您提供深圳天气预报30天，深圳未来30天天气查询，深圳未来一个月天气变化情况，气温走势，方便出行。\n",
      "\n",
      "28/32℃多云西南风 <3级28/29℃雨西南风 <3级 7/21 28℃33℃/ 白天夜晚 29/33℃雨南风 <3级28/30℃雨东风 <3级 7/22 28℃33℃/ 白天夜晚 29/33℃阴东南风 <3级28/30℃雨东南风 <3级 7/23 27℃33℃/ 白天夜晚 28/33℃雨南风 <3级27/29℃雨东南风 <3级 40天天气趋势...\n",
      "\n",
      "2025年7月12日- 深圳天气预报，及时准确发布中央气象台天气信息，便捷查询深圳今日天气，深圳周末天气，深圳一周天气预报，深圳蓝天预报，深圳天气预报，深圳40日...\n",
      "\n",
      "围观天气提供广东深圳天气预报、深圳7天、15天天气,方便大家查询深圳天气预报包括温度、降雨以及空气质量pm2.5的24小时深圳天气实时数据,能及时根据天气情况安排工作以及生活,查深圳天气就上围观天气!\n",
      "\n",
      "\n",
      "==================================\u001b[1m Ai Message \u001b[0m==================================\n",
      "\n",
      "近期深圳的天气预报如下：\n",
      "\n",
      "- 7月6日（星期日）：小雨，温度范围28~37℃。\n",
      "- 7月7日（星期一）：多云，温度范围29~36℃。\n",
      "- 7月8日（星期二）：阴天，温度范围29~34℃。\n",
      "- 7月9日（星期三）：中雨，温度范围29~35℃。\n",
      "- 7月10日（星期四）：中雨，温度范围26~30℃。\n",
      "\n",
      "请注意根据天气变化调整您的出行计划。以上信息来源于中央气象台和深圳天气网，请以官方发布为准。\n"
     ]
    }
   ],
   "source": [
    "# ------------------ 主入口 ------------------\n",
    "if __name__ == \"__main__\":\n",
    "    # 测试用例\n",
    "    questions = [\"今天是几号？\", \"深圳近期天气\"]\n",
    "    run_chat(questions)"
   ]
  }
 ],
 "metadata": {
  "kernelspec": {
   "display_name": "python-data-science",
   "language": "python",
   "name": "python3"
  },
  "language_info": {
   "codemirror_mode": {
    "name": "ipython",
    "version": 3
   },
   "file_extension": ".py",
   "mimetype": "text/x-python",
   "name": "python",
   "nbconvert_exporter": "python",
   "pygments_lexer": "ipython3",
   "version": "3.10.11"
  }
 },
 "nbformat": 4,
 "nbformat_minor": 5
}
