{
 "cells": [
  {
   "cell_type": "markdown",
   "id": "1753113b",
   "metadata": {},
   "source": [
    "### 提取单个实例的实体"
   ]
  },
  {
   "cell_type": "code",
   "execution_count": 1,
   "id": "1c1da340",
   "metadata": {},
   "outputs": [],
   "source": [
    "from typing import Optional\n",
    "\n",
    "from pydantic import BaseModel, Field\n",
    "\n",
    "\n",
    "class Person(BaseModel):\n",
    "    name: Optional[str] = Field(default=None, description=\"名字\")\n",
    "    hair_color: Optional[str] = Field(\n",
    "        default=None, description=\"该人的头发颜色（如果已知）\"\n",
    "    )\n",
    "    height_in_meters: Optional[str] = Field(\n",
    "        default=None, description=\"身高（米）\"\n",
    "    )"
   ]
  },
  {
   "cell_type": "code",
   "execution_count": 2,
   "id": "8c602cf5",
   "metadata": {},
   "outputs": [],
   "source": [
    "from langchain_core.prompts import ChatPromptTemplate\n",
    "\n",
    "# 定义自定义提示以提供说明和任何其他上下文。\n",
    "# 1） 您可以在提示模板中添加示例以提高提取质量\n",
    "# 2） 引入额外的参数以考虑上下文（例如，包含元数据关于从中提取文本的文档。\n",
    "prompt_template = ChatPromptTemplate.from_messages(\n",
    "    [\n",
    "        (\n",
    "            \"system\",\n",
    "            \"您是专家级提取算法。\"\n",
    "            \"仅从文本中提取相关信息。\"\n",
    "            \"如果您不知道要求提取的属性的值， \"\n",
    "            \"返回 null 作为属性的值。\",\n",
    "        ),\n",
    "        (\"human\", \"{text}\"),\n",
    "    ]\n",
    ")"
   ]
  },
  {
   "cell_type": "code",
   "execution_count": 3,
   "id": "5e6507b6",
   "metadata": {},
   "outputs": [],
   "source": [
    "from langchain_openai import ChatOpenAI\n",
    "\n",
    "llm = ChatOpenAI(\n",
    "    model=\"shmily_006/Qw3\",\n",
    "    base_url=\"http://localhost:11434/v1\",\n",
    "    api_key=\"EMPTY\",\n",
    ")"
   ]
  },
  {
   "cell_type": "code",
   "execution_count": 4,
   "id": "c44aa95d",
   "metadata": {},
   "outputs": [],
   "source": [
    "structured_llm = llm.with_structured_output(schema=Person)"
   ]
  },
  {
   "cell_type": "code",
   "execution_count": 7,
   "id": "cc12e1b0",
   "metadata": {},
   "outputs": [
    {
     "data": {
      "text/plain": [
       "Person(name='艾伦·史密斯', hair_color='金发', height_in_meters='170cm')"
      ]
     },
     "execution_count": 7,
     "metadata": {},
     "output_type": "execute_result"
    }
   ],
   "source": [
    "text = \"艾伦·史密斯 （Alan Smith） 身高 170cm，有一头金发。\"\n",
    "prompt = prompt_template.invoke({\"text\": text})\n",
    "structured_llm.invoke(prompt)"
   ]
  },
  {
   "cell_type": "markdown",
   "id": "3e794729",
   "metadata": {},
   "source": [
    "### 提取多个实例的实体"
   ]
  },
  {
   "cell_type": "code",
   "execution_count": 8,
   "id": "b66f61fd",
   "metadata": {},
   "outputs": [],
   "source": [
    "from typing import List, Optional\n",
    "\n",
    "class Person(BaseModel):\n",
    "    name: Optional[str] = Field(default=None, description=\"名字\")\n",
    "    hair_color: Optional[str] = Field(\n",
    "        default=None, description=\"头发颜色\"\n",
    "    )\n",
    "    height_in_meters: Optional[str] = Field(\n",
    "        default=None, description=\"身高\"\n",
    "    )\n",
    "\n",
    "\n",
    "class Data(BaseModel):\n",
    "    \"\"\"提取的有关人员的数据。\"\"\"\n",
    "\n",
    "    # 创建一个模型，以便我们可以提取多个实体。\n",
    "    people: List[Person]"
   ]
  },
  {
   "cell_type": "code",
   "execution_count": 11,
   "id": "a6a45c77",
   "metadata": {},
   "outputs": [
    {
     "data": {
      "text/plain": [
       "Data(people=[Person(name='Jeff', hair_color='黑色', height_in_meters='1.70'), Person(name='安娜', hair_color='黑色', height_in_meters='1.70')])"
      ]
     },
     "execution_count": 11,
     "metadata": {},
     "output_type": "execute_result"
    }
   ],
   "source": [
    "structured_llm = llm.with_structured_output(schema=Data)\n",
    "text = \"我叫 Jeff，我的头发是黑色的，身高 170cm。安娜的头发和我一样。\"\n",
    "prompt = prompt_template.invoke({\"text\": text})\n",
    "structured_llm.invoke(prompt)"
   ]
  },
  {
   "cell_type": "markdown",
   "id": "907d5805",
   "metadata": {},
   "source": [
    "### 提供示例"
   ]
  },
  {
   "cell_type": "code",
   "execution_count": 13,
   "id": "ce2c74fe",
   "metadata": {},
   "outputs": [
    {
     "name": "stdout",
     "output_type": "stream",
     "text": [
      "$3 + 4 = 7$\n"
     ]
    }
   ],
   "source": [
    "messages = [\n",
    "    {\"role\": \"user\", \"content\": \"2 + 2\"},\n",
    "    {\"role\": \"assistant\", \"content\": \"4\"},\n",
    "    {\"role\": \"user\", \"content\": \"2 + 3\"},\n",
    "    {\"role\": \"assistant\", \"content\": \"5\"},\n",
    "    {\"role\": \"user\", \"content\": \"3 + 4\"},\n",
    "]\n",
    "\n",
    "response = llm.invoke(messages)\n",
    "print(response.content)"
   ]
  },
  {
   "cell_type": "code",
   "execution_count": 14,
   "id": "46410483",
   "metadata": {},
   "outputs": [
    {
     "name": "stderr",
     "output_type": "stream",
     "text": [
      "C:\\Users\\tiansz\\AppData\\Local\\Temp\\ipykernel_9140\\3101936303.py:22: LangChainBetaWarning: The function `tool_example_to_messages` is in beta. It is actively being worked on, so the API may change.\n",
      "  messages.extend(tool_example_to_messages(txt, [tool_call], ai_response=ai_response))\n"
     ]
    }
   ],
   "source": [
    "from langchain_core.utils.function_calling import tool_example_to_messages\n",
    "\n",
    "examples = [\n",
    "    (\n",
    "        \"海洋浩瀚而湛蓝。它有 20,000 多英尺深。\",\n",
    "        Data(people=[]),\n",
    "    ),\n",
    "    (\n",
    "        \"菲奥娜从法国长途跋涉到西班牙。\",\n",
    "        Data(people=[Person(name=\"菲奥娜\", height_in_meters=None, hair_color=None)]),\n",
    "    ),\n",
    "]\n",
    "\n",
    "\n",
    "messages = []\n",
    "\n",
    "for txt, tool_call in examples:\n",
    "    if tool_call.people:\n",
    "        ai_response = \"检测到人员。\"\n",
    "    else:\n",
    "        ai_response = \"未检测到人员。\"\n",
    "    messages.extend(tool_example_to_messages(txt, [tool_call], ai_response=ai_response))"
   ]
  },
  {
   "cell_type": "code",
   "execution_count": 15,
   "id": "01af0c88",
   "metadata": {},
   "outputs": [
    {
     "name": "stdout",
     "output_type": "stream",
     "text": [
      "================================\u001b[1m Human Message \u001b[0m=================================\n",
      "\n",
      "海洋浩瀚而湛蓝。它有 20,000 多英尺深。\n",
      "==================================\u001b[1m Ai Message \u001b[0m==================================\n",
      "Tool Calls:\n",
      "  Data (196ad4f5-14c0-4098-8bd4-73fa600549ff)\n",
      " Call ID: 196ad4f5-14c0-4098-8bd4-73fa600549ff\n",
      "  Args:\n",
      "    people: []\n",
      "=================================\u001b[1m Tool Message \u001b[0m=================================\n",
      "\n",
      "You have correctly called this tool.\n",
      "==================================\u001b[1m Ai Message \u001b[0m==================================\n",
      "\n",
      "未检测到人员。\n",
      "================================\u001b[1m Human Message \u001b[0m=================================\n",
      "\n",
      "菲奥娜从法国长途跋涉到西班牙。\n",
      "==================================\u001b[1m Ai Message \u001b[0m==================================\n",
      "Tool Calls:\n",
      "  Data (126417e7-47fc-4755-bf3d-868762137561)\n",
      " Call ID: 126417e7-47fc-4755-bf3d-868762137561\n",
      "  Args:\n",
      "    people: [{'name': '菲奥娜', 'hair_color': None, 'height_in_meters': None}]\n",
      "=================================\u001b[1m Tool Message \u001b[0m=================================\n",
      "\n",
      "You have correctly called this tool.\n",
      "==================================\u001b[1m Ai Message \u001b[0m==================================\n",
      "\n",
      "检测到人员。\n"
     ]
    }
   ],
   "source": [
    "for message in messages:\n",
    "    message.pretty_print()"
   ]
  },
  {
   "cell_type": "code",
   "execution_count": 16,
   "id": "5647f185",
   "metadata": {},
   "outputs": [
    {
     "data": {
      "text/plain": [
       "Data(people=[Person(name='用户', hair_color='黑色', height_in_meters=\"I don't know\"), Person(name='AI助手', hair_color='蓝色', height_in_meters='1.75')])"
      ]
     },
     "execution_count": 16,
     "metadata": {},
     "output_type": "execute_result"
    }
   ],
   "source": [
    "message_no_extraction = {\n",
    "    \"role\": \"user\",\n",
    "    \"content\": \"太阳系很大，但地球只有 1 颗卫星。\",\n",
    "}\n",
    "\n",
    "structured_llm = llm.with_structured_output(schema=Data)\n",
    "structured_llm.invoke([message_no_extraction])"
   ]
  },
  {
   "cell_type": "code",
   "execution_count": 17,
   "id": "b3c27d81",
   "metadata": {},
   "outputs": [
    {
     "data": {
      "text/plain": [
       "Data(people=[])"
      ]
     },
     "execution_count": 17,
     "metadata": {},
     "output_type": "execute_result"
    }
   ],
   "source": [
    "structured_llm.invoke(messages + [message_no_extraction])"
   ]
  }
 ],
 "metadata": {
  "kernelspec": {
   "display_name": "python-data-science",
   "language": "python",
   "name": "python3"
  },
  "language_info": {
   "codemirror_mode": {
    "name": "ipython",
    "version": 3
   },
   "file_extension": ".py",
   "mimetype": "text/x-python",
   "name": "python",
   "nbconvert_exporter": "python",
   "pygments_lexer": "ipython3",
   "version": "3.10.11"
  }
 },
 "nbformat": 4,
 "nbformat_minor": 5
}
