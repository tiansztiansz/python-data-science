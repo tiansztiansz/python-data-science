{
 "cells": [
  {
   "cell_type": "markdown",
   "id": "277e732a",
   "metadata": {},
   "source": [
    "#### 数据预处理"
   ]
  },
  {
   "cell_type": "code",
   "execution_count": 8,
   "id": "c5848f3d",
   "metadata": {},
   "outputs": [],
   "source": [
    "# uv 环境下可运行如下命令下载模型：\n",
    "# uv run modelscope download --model tiansz/dinov2-base --local_dir models/dinov2-base\n",
    "\n",
    "import evaluate\n",
    "import numpy as np\n",
    "from datasets import load_dataset\n",
    "from transformers import AutoImageProcessor\n",
    "from transformers import DefaultDataCollator\n",
    "from torchvision.transforms import RandomResizedCrop, Compose, Normalize, ToTensor\n",
    "from transformers import AutoModelForImageClassification, TrainingArguments, Trainer"
   ]
  },
  {
   "cell_type": "code",
   "execution_count": 9,
   "id": "6d83609a",
   "metadata": {},
   "outputs": [],
   "source": [
    "EPOCHS = 5  # 模型学习训练集的轮次\n",
    "BATCH_SIZE = 4  # 模型并行学习的样本数量\n",
    "PRETRAINED_MODEL_NAME_OR_PATH = \"../models/dinov2-base\"  # 预训练模型路径\n",
    "IMADE_PATH = \"../datasets/图像分类数据集\"  # 图像训练集路径\n",
    "OUPUT_CHECKPOINT_PATH = \"../models/image_classification_checkpoint\"  # 训练过程中产生的模型文件\n",
    "OUTPUT_MODEL_PATH = \"../models/image_classification_model\"  # 微调后的文本分类模型路径\n",
    "VAL_SIZE = 0.2  # 验证集的占比\n",
    "ACCURACY_PATH = \"../common/accuracy.py\"  # 评估脚本本地路径"
   ]
  },
  {
   "cell_type": "code",
   "execution_count": 10,
   "id": "21c4a105",
   "metadata": {},
   "outputs": [
    {
     "data": {
      "application/vnd.jupyter.widget-view+json": {
       "model_id": "4477cb8717174a4c828ca14b150f4cf4",
       "version_major": 2,
       "version_minor": 0
      },
      "text/plain": [
       "Resolving data files:   0%|          | 0/20 [00:00<?, ?it/s]"
      ]
     },
     "metadata": {},
     "output_type": "display_data"
    },
    {
     "name": "stdout",
     "output_type": "stream",
     "text": [
      "DatasetDict({\n",
      "    train: Dataset({\n",
      "        features: ['image', 'label'],\n",
      "        num_rows: 16\n",
      "    })\n",
      "    test: Dataset({\n",
      "        features: ['image', 'label'],\n",
      "        num_rows: 4\n",
      "    })\n",
      "})\n"
     ]
    }
   ],
   "source": [
    "img_dataset = load_dataset(\"imagefolder\", data_dir=IMADE_PATH)\n",
    "img_dataset = img_dataset[\"train\"].train_test_split(test_size=VAL_SIZE)\n",
    "print(img_dataset)"
   ]
  },
  {
   "cell_type": "code",
   "execution_count": 11,
   "id": "87b33dc0",
   "metadata": {},
   "outputs": [
    {
     "name": "stdout",
     "output_type": "stream",
     "text": [
      "标签映射关系： {'cat': '0', 'dog': '1'}\n"
     ]
    }
   ],
   "source": [
    "labels = img_dataset[\"train\"].features[\"label\"].names\n",
    "label2id, id2label = dict(), dict()\n",
    "for i, label in enumerate(labels):\n",
    "    label2id[label] = str(i)\n",
    "    id2label[str(i)] = label\n",
    "\n",
    "print(\"标签映射关系：\", label2id)"
   ]
  },
  {
   "cell_type": "code",
   "execution_count": 12,
   "id": "2f47d999",
   "metadata": {},
   "outputs": [],
   "source": [
    "image_processor = AutoImageProcessor.from_pretrained(PRETRAINED_MODEL_NAME_OR_PATH)\n",
    "normalize = Normalize(mean=image_processor.image_mean, std=image_processor.image_std)\n",
    "size = (\n",
    "    image_processor.size[\"shortest_edge\"]\n",
    "    if \"shortest_edge\" in image_processor.size\n",
    "    else (image_processor.size[\"height\"], image_processor.size[\"width\"])\n",
    ")\n",
    "_transforms = Compose([RandomResizedCrop(size), ToTensor(), normalize])\n",
    "\n",
    "\n",
    "def transforms(examples):\n",
    "    examples[\"pixel_values\"] = [\n",
    "        _transforms(img.convert(\"RGB\")) for img in examples[\"image\"]\n",
    "    ]\n",
    "    del examples[\"image\"]\n",
    "    return examples\n",
    "\n",
    "\n",
    "img_dataset = img_dataset.with_transform(transforms)"
   ]
  },
  {
   "cell_type": "markdown",
   "id": "29c30554",
   "metadata": {},
   "source": [
    "#### 模型微调"
   ]
  },
  {
   "cell_type": "code",
   "execution_count": 13,
   "id": "21c74e1d",
   "metadata": {},
   "outputs": [],
   "source": [
    "accuracy = evaluate.load(ACCURACY_PATH)\n",
    "\n",
    "\n",
    "def compute_metrics(eval_pred):\n",
    "    predictions, labels = eval_pred\n",
    "    predictions = np.argmax(predictions, axis=1)\n",
    "    return accuracy.compute(predictions=predictions, references=labels)"
   ]
  },
  {
   "cell_type": "code",
   "execution_count": 14,
   "id": "47735bbb",
   "metadata": {},
   "outputs": [
    {
     "name": "stderr",
     "output_type": "stream",
     "text": [
      "Some weights of Dinov2ForImageClassification were not initialized from the model checkpoint at ../models/dinov2-base and are newly initialized: ['classifier.bias', 'classifier.weight']\n",
      "You should probably TRAIN this model on a down-stream task to be able to use it for predictions and inference.\n"
     ]
    },
    {
     "data": {
      "text/html": [
       "\n",
       "    <div>\n",
       "      \n",
       "      <progress value='5' max='5' style='width:300px; height:20px; vertical-align: middle;'></progress>\n",
       "      [5/5 00:38, Epoch 5/5]\n",
       "    </div>\n",
       "    <table border=\"1\" class=\"dataframe\">\n",
       "  <thead>\n",
       " <tr style=\"text-align: left;\">\n",
       "      <th>Epoch</th>\n",
       "      <th>Training Loss</th>\n",
       "      <th>Validation Loss</th>\n",
       "      <th>Accuracy</th>\n",
       "    </tr>\n",
       "  </thead>\n",
       "  <tbody>\n",
       "    <tr>\n",
       "      <td>1</td>\n",
       "      <td>No log</td>\n",
       "      <td>0.413891</td>\n",
       "      <td>0.750000</td>\n",
       "    </tr>\n",
       "    <tr>\n",
       "      <td>2</td>\n",
       "      <td>No log</td>\n",
       "      <td>0.007806</td>\n",
       "      <td>1.000000</td>\n",
       "    </tr>\n",
       "    <tr>\n",
       "      <td>3</td>\n",
       "      <td>No log</td>\n",
       "      <td>0.073578</td>\n",
       "      <td>1.000000</td>\n",
       "    </tr>\n",
       "    <tr>\n",
       "      <td>4</td>\n",
       "      <td>No log</td>\n",
       "      <td>0.706210</td>\n",
       "      <td>0.750000</td>\n",
       "    </tr>\n",
       "    <tr>\n",
       "      <td>5</td>\n",
       "      <td>No log</td>\n",
       "      <td>0.119363</td>\n",
       "      <td>1.000000</td>\n",
       "    </tr>\n",
       "  </tbody>\n",
       "</table><p>"
      ],
      "text/plain": [
       "<IPython.core.display.HTML object>"
      ]
     },
     "metadata": {},
     "output_type": "display_data"
    },
    {
     "data": {
      "text/plain": [
       "['../models/image_classification_model\\\\preprocessor_config.json']"
      ]
     },
     "execution_count": 14,
     "metadata": {},
     "output_type": "execute_result"
    }
   ],
   "source": [
    "model = AutoModelForImageClassification.from_pretrained(\n",
    "    PRETRAINED_MODEL_NAME_OR_PATH,\n",
    "    num_labels=len(labels),\n",
    "    id2label=id2label,\n",
    "    label2id=label2id,\n",
    ")\n",
    "\n",
    "training_args = TrainingArguments(\n",
    "    output_dir=OUPUT_CHECKPOINT_PATH,\n",
    "    remove_unused_columns=False,\n",
    "    eval_strategy=\"epoch\",\n",
    "    save_strategy=\"epoch\",\n",
    "    learning_rate=5e-5,\n",
    "    per_device_train_batch_size=BATCH_SIZE,\n",
    "    gradient_accumulation_steps=4,\n",
    "    per_device_eval_batch_size=BATCH_SIZE,\n",
    "    num_train_epochs=EPOCHS,\n",
    "    warmup_ratio=0.1,\n",
    "    load_best_model_at_end=True,\n",
    "    save_total_limit=1,\n",
    "    fp16=True,\n",
    ")\n",
    "\n",
    "data_collator = DefaultDataCollator()\n",
    "\n",
    "trainer = Trainer(\n",
    "    model=model,\n",
    "    args=training_args,\n",
    "    data_collator=data_collator,\n",
    "    train_dataset=img_dataset[\"train\"],\n",
    "    eval_dataset=img_dataset[\"test\"],\n",
    "    processing_class=image_processor,\n",
    "    compute_metrics=compute_metrics,\n",
    ")\n",
    "\n",
    "trainer.train()\n",
    "model.half()\n",
    "model.save_pretrained(OUTPUT_MODEL_PATH)\n",
    "image_processor.save_pretrained(OUTPUT_MODEL_PATH)"
   ]
  },
  {
   "cell_type": "markdown",
   "id": "1c36813d",
   "metadata": {},
   "source": [
    "#### 模型推理"
   ]
  },
  {
   "cell_type": "code",
   "execution_count": 15,
   "id": "b69c3007",
   "metadata": {},
   "outputs": [
    {
     "name": "stderr",
     "output_type": "stream",
     "text": [
      "Device set to use cpu\n"
     ]
    },
    {
     "name": "stdout",
     "output_type": "stream",
     "text": [
      "[{'label': 'cat', 'score': 0.9027382731437683}, {'label': 'dog', 'score': 0.0972617045044899}]\n"
     ]
    }
   ],
   "source": [
    "import torch\n",
    "from transformers import pipeline\n",
    "\n",
    "clf = pipeline(\n",
    "    \"image-classification\",\n",
    "    model=OUTPUT_MODEL_PATH,\n",
    "    torch_dtype=torch.float16,\n",
    ")\n",
    "\n",
    "print(clf(\"../tests/猫(测试用).jpg\"))"
   ]
  }
 ],
 "metadata": {
  "kernelspec": {
   "display_name": ".venv",
   "language": "python",
   "name": "python3"
  },
  "language_info": {
   "codemirror_mode": {
    "name": "ipython",
    "version": 3
   },
   "file_extension": ".py",
   "mimetype": "text/x-python",
   "name": "python",
   "nbconvert_exporter": "python",
   "pygments_lexer": "ipython3",
   "version": "3.10.11"
  }
 },
 "nbformat": 4,
 "nbformat_minor": 5
}
