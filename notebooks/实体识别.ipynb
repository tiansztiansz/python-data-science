{
 "cells": [
  {
   "cell_type": "code",
   "execution_count": 1,
   "id": "d6bf89cb",
   "metadata": {},
   "outputs": [
    {
     "name": "stderr",
     "output_type": "stream",
     "text": [
      "c:\\Users\\18664\\Desktop\\python-data-science\\.venv\\lib\\site-packages\\tqdm\\auto.py:21: TqdmWarning: IProgress not found. Please update jupyter and ipywidgets. See https://ipywidgets.readthedocs.io/en/stable/user_install.html\n",
      "  from .autonotebook import tqdm as notebook_tqdm\n"
     ]
    }
   ],
   "source": [
    "import datasets\n",
    "import evaluate\n",
    "import numpy as np\n",
    "import pandas as pd\n",
    "from transformers import AutoModelForTokenClassification\n",
    "from transformers import AutoTokenizer\n",
    "from transformers import DataCollatorForTokenClassification\n",
    "from transformers import TrainingArguments, Trainer"
   ]
  },
  {
   "cell_type": "code",
   "execution_count": 2,
   "id": "df021048",
   "metadata": {},
   "outputs": [],
   "source": [
    "EPOCHS = 5  # 模型学习训练集的轮次\n",
    "BATCH_SIZE = 8  # 模型并行学习的样本数量\n",
    "PRETRAINED_MODEL_NAME_OR_PATH = \"../models/chinese-lert-base\"  # 预训练模型路径\n",
    "CSV_PATH = (\n",
    "    \"../datasets/label_studio实体识别数据集.csv\"  # label-studio标注的实体识别数据集路径\n",
    ")\n",
    "OUPUT_CHECKPOINT_PATH = (\n",
    "    \"../models/token_classification_checkpoint\"  # 训练过程中产生的模型文件\n",
    ")\n",
    "OUTPUT_MODEL_PATH = \"../models/token_classification_model\"  # 微调后的文本分类模型路径\n",
    "VAL_SIZE = 0.1  # 验证集的占比\n",
    "MAX_LENGTH = 256  # 输入文本的token长度，lert模型最大只能是512\n",
    "SEQEVAL_PATH = \"../common/seqeval.py\"  # 评估脚本本地路径"
   ]
  },
  {
   "cell_type": "code",
   "execution_count": 3,
   "id": "69777d5a",
   "metadata": {},
   "outputs": [
    {
     "name": "stdout",
     "output_type": "stream",
     "text": [
      "标签映射关系： {'O': 0, 'B-姓名': 1, 'I-姓名': 2, 'B-地址': 3, 'I-地址': 4}\n"
     ]
    }
   ],
   "source": [
    "# 读取从label-stuido打标好的序列标注文件\n",
    "data = pd.read_csv(CSV_PATH)\n",
    "\n",
    "# 数据处理和转换\n",
    "formatted_data = []\n",
    "label_set = set()  # 用集合存储标签，用于获取标签和数字的映射关系\n",
    "for idx, row in data.iterrows():\n",
    "    tokens = list(row[\"text\"])  # 将文本拆分为单词列表\n",
    "    ner_tags = [\"O\"] * len(tokens)  # 初始化标签列表，默认为非实体('0')\n",
    "    if isinstance(row[\"label\"], str):\n",
    "        entities = eval(row[\"label\"])  # 提取实体注释\n",
    "        for entity in entities:\n",
    "            start = entity[\"start\"]\n",
    "            end = entity[\"end\"]\n",
    "            label = entity[\"labels\"][0]\n",
    "            label_set.add(label)\n",
    "            ner_tags[start] = f\"B-{label}\"  # 实体开头位置标记为'B-实体类别'\n",
    "            for i in range(start + 1, end):\n",
    "                ner_tags[i] = f\"I-{label}\"  # 实体内部位置标记为'I-实体类别'\n",
    "    formatted_data.append({\"id\": str(idx), \"tokens\": tokens, \"ner_tags\": ner_tags})\n",
    "\n",
    "# 获取标签和数字的映射关系\n",
    "label_name_list = [\"O\"]\n",
    "for label_name in label_set:\n",
    "    start_label_name = f\"B-{label_name}\"\n",
    "    end_label_name = f\"I-{label_name}\"\n",
    "    label_name_list.append(start_label_name)\n",
    "    label_name_list.append(end_label_name)\n",
    "label2id = {}\n",
    "id2label = {}\n",
    "for i, category in enumerate(label_name_list):\n",
    "    label2id[category] = i\n",
    "    id2label[i] = category\n",
    "\n",
    "print(\"标签映射关系：\", label2id)"
   ]
  },
  {
   "cell_type": "code",
   "execution_count": 4,
   "id": "f2262a25",
   "metadata": {},
   "outputs": [
    {
     "name": "stdout",
     "output_type": "stream",
     "text": [
      "DatasetDict({\n",
      "    train: Dataset({\n",
      "        features: ['id', 'tokens', 'ner_tags'],\n",
      "        num_rows: 90\n",
      "    })\n",
      "    test: Dataset({\n",
      "        features: ['id', 'tokens', 'ner_tags'],\n",
      "        num_rows: 10\n",
      "    })\n",
      "})\n"
     ]
    }
   ],
   "source": [
    "# 将中文标签转换为数字\n",
    "id_list = []\n",
    "tokens_nested_list = []\n",
    "ner_tags_nested_list = []\n",
    "for item in formatted_data:\n",
    "    id_list.append(item[\"id\"])\n",
    "    tokens_nested_list.append(item[\"tokens\"])\n",
    "    ner_tags_list = [label2id[str_label] for str_label in item[\"ner_tags\"]]\n",
    "    ner_tags_nested_list.append(ner_tags_list)\n",
    "\n",
    "# 将数据转换为datasets.Dataset对象\n",
    "data_dict = {\n",
    "    \"id\": id_list,\n",
    "    \"tokens\": tokens_nested_list,\n",
    "    \"ner_tags\": ner_tags_nested_list,\n",
    "}\n",
    "\n",
    "dataset = datasets.Dataset.from_dict(data_dict)\n",
    "\n",
    "# 使用 train_test_split 函数来拆分数据集\n",
    "split_data = dataset.train_test_split(test_size=VAL_SIZE)\n",
    "print(split_data)"
   ]
  },
  {
   "cell_type": "code",
   "execution_count": 5,
   "id": "7ecf4499",
   "metadata": {},
   "outputs": [
    {
     "name": "stderr",
     "output_type": "stream",
     "text": [
      "Map: 100%|██████████| 90/90 [00:00<00:00, 3103.52 examples/s]\n",
      "Map: 100%|██████████| 10/10 [00:00<00:00, 1628.35 examples/s]\n"
     ]
    }
   ],
   "source": [
    "tokenizer = AutoTokenizer.from_pretrained(PRETRAINED_MODEL_NAME_OR_PATH, use_fast=True)\n",
    "\n",
    "\n",
    "def tokenize_and_align_labels(examples):\n",
    "    tokenized_inputs = tokenizer(\n",
    "        examples[\"tokens\"],\n",
    "        truncation=True,\n",
    "        max_length=MAX_LENGTH,\n",
    "        padding=\"max_length\",\n",
    "        is_split_into_words=True,\n",
    "    )\n",
    "\n",
    "    labels = []\n",
    "    for i, label in enumerate(examples[\"ner_tags\"]):\n",
    "        word_ids = tokenized_inputs.word_ids(\n",
    "            batch_index=i\n",
    "        )  # 将标记映射到它们各自的单词。\n",
    "        previous_word_idx = None\n",
    "        label_ids = []\n",
    "        for word_idx in word_ids:  # 将特殊字符设置为 -100。\n",
    "            if word_idx is None:\n",
    "                label_ids.append(-100)\n",
    "            elif word_idx != previous_word_idx:  # 仅标记给定单词的第一个标记。\n",
    "                label_ids.append(label[word_idx])\n",
    "            else:\n",
    "                label_ids.append(-100)\n",
    "            previous_word_idx = word_idx\n",
    "        labels.append(label_ids)\n",
    "\n",
    "    tokenized_inputs[\"labels\"] = labels\n",
    "    return tokenized_inputs\n",
    "\n",
    "\n",
    "tokenized_wnut = split_data.map(tokenize_and_align_labels, batched=True)"
   ]
  },
  {
   "cell_type": "code",
   "execution_count": 6,
   "id": "44c2048b",
   "metadata": {},
   "outputs": [],
   "source": [
    "seqeval = evaluate.load(SEQEVAL_PATH)\n",
    "\n",
    "\n",
    "def compute_metrics(p):\n",
    "    predictions, labels = p\n",
    "    predictions = np.argmax(predictions, axis=2)\n",
    "\n",
    "    true_predictions = [\n",
    "        [label_name_list[p] for (p, l) in zip(prediction, label) if l != -100]\n",
    "        for prediction, label in zip(predictions, labels)\n",
    "    ]\n",
    "    true_labels = [\n",
    "        [label_name_list[l] for (p, l) in zip(prediction, label) if l != -100]\n",
    "        for prediction, label in zip(predictions, labels)\n",
    "    ]\n",
    "\n",
    "    results = seqeval.compute(predictions=true_predictions, references=true_labels)\n",
    "    return {\n",
    "        \"accuracy\": results[\"overall_accuracy\"],\n",
    "        \"precision\": results[\"overall_precision\"],\n",
    "        \"recall\": results[\"overall_recall\"],\n",
    "        \"f1\": results[\"overall_f1\"],\n",
    "    }"
   ]
  },
  {
   "cell_type": "code",
   "execution_count": 7,
   "id": "815de2ee",
   "metadata": {},
   "outputs": [
    {
     "name": "stderr",
     "output_type": "stream",
     "text": [
      "Some weights of BertForTokenClassification were not initialized from the model checkpoint at ../models/chinese-lert-base and are newly initialized: ['classifier.bias', 'classifier.weight']\n",
      "You should probably TRAIN this model on a down-stream task to be able to use it for predictions and inference.\n",
      "C:\\Users\\18664\\AppData\\Local\\Temp\\ipykernel_12816\\1492253729.py:30: FutureWarning: `tokenizer` is deprecated and will be removed in version 5.0.0 for `Trainer.__init__`. Use `processing_class` instead.\n",
      "  trainer = Trainer(\n",
      "c:\\Users\\18664\\Desktop\\python-data-science\\.venv\\lib\\site-packages\\torch\\utils\\data\\dataloader.py:665: UserWarning: 'pin_memory' argument is set as true but no accelerator is found, then device pinned memory won't be used.\n",
      "  warnings.warn(warn_msg)\n"
     ]
    },
    {
     "data": {
      "text/html": [
       "\n",
       "    <div>\n",
       "      \n",
       "      <progress value='60' max='60' style='width:300px; height:20px; vertical-align: middle;'></progress>\n",
       "      [60/60 04:09, Epoch 5/5]\n",
       "    </div>\n",
       "    <table border=\"1\" class=\"dataframe\">\n",
       "  <thead>\n",
       " <tr style=\"text-align: left;\">\n",
       "      <th>Epoch</th>\n",
       "      <th>Training Loss</th>\n",
       "      <th>Validation Loss</th>\n",
       "      <th>Accuracy</th>\n",
       "      <th>Precision</th>\n",
       "      <th>Recall</th>\n",
       "      <th>F1</th>\n",
       "    </tr>\n",
       "  </thead>\n",
       "  <tbody>\n",
       "    <tr>\n",
       "      <td>1</td>\n",
       "      <td>No log</td>\n",
       "      <td>0.129822</td>\n",
       "      <td>0.964232</td>\n",
       "      <td>0.000000</td>\n",
       "      <td>0.000000</td>\n",
       "      <td>0.000000</td>\n",
       "    </tr>\n",
       "    <tr>\n",
       "      <td>2</td>\n",
       "      <td>No log</td>\n",
       "      <td>0.094467</td>\n",
       "      <td>0.961252</td>\n",
       "      <td>0.166667</td>\n",
       "      <td>0.222222</td>\n",
       "      <td>0.190476</td>\n",
       "    </tr>\n",
       "    <tr>\n",
       "      <td>3</td>\n",
       "      <td>No log</td>\n",
       "      <td>0.071128</td>\n",
       "      <td>0.967213</td>\n",
       "      <td>0.222222</td>\n",
       "      <td>0.222222</td>\n",
       "      <td>0.222222</td>\n",
       "    </tr>\n",
       "    <tr>\n",
       "      <td>4</td>\n",
       "      <td>No log</td>\n",
       "      <td>0.066515</td>\n",
       "      <td>0.971684</td>\n",
       "      <td>0.300000</td>\n",
       "      <td>0.333333</td>\n",
       "      <td>0.315789</td>\n",
       "    </tr>\n",
       "    <tr>\n",
       "      <td>5</td>\n",
       "      <td>No log</td>\n",
       "      <td>0.065245</td>\n",
       "      <td>0.971684</td>\n",
       "      <td>0.300000</td>\n",
       "      <td>0.333333</td>\n",
       "      <td>0.315789</td>\n",
       "    </tr>\n",
       "  </tbody>\n",
       "</table><p>"
      ],
      "text/plain": [
       "<IPython.core.display.HTML object>"
      ]
     },
     "metadata": {},
     "output_type": "display_data"
    },
    {
     "name": "stderr",
     "output_type": "stream",
     "text": [
      "c:\\Users\\18664\\Desktop\\python-data-science\\.venv\\lib\\site-packages\\seqeval\\metrics\\v1.py:57: UndefinedMetricWarning: Precision and F-score are ill-defined and being set to 0.0 due to no predicted samples. Use `zero_division` parameter to control this behavior.\n",
      "  _warn_prf(average, modifier, msg_start, len(result))\n",
      "c:\\Users\\18664\\Desktop\\python-data-science\\.venv\\lib\\site-packages\\torch\\utils\\data\\dataloader.py:665: UserWarning: 'pin_memory' argument is set as true but no accelerator is found, then device pinned memory won't be used.\n",
      "  warnings.warn(warn_msg)\n",
      "c:\\Users\\18664\\Desktop\\python-data-science\\.venv\\lib\\site-packages\\torch\\utils\\data\\dataloader.py:665: UserWarning: 'pin_memory' argument is set as true but no accelerator is found, then device pinned memory won't be used.\n",
      "  warnings.warn(warn_msg)\n",
      "c:\\Users\\18664\\Desktop\\python-data-science\\.venv\\lib\\site-packages\\torch\\utils\\data\\dataloader.py:665: UserWarning: 'pin_memory' argument is set as true but no accelerator is found, then device pinned memory won't be used.\n",
      "  warnings.warn(warn_msg)\n",
      "c:\\Users\\18664\\Desktop\\python-data-science\\.venv\\lib\\site-packages\\torch\\utils\\data\\dataloader.py:665: UserWarning: 'pin_memory' argument is set as true but no accelerator is found, then device pinned memory won't be used.\n",
      "  warnings.warn(warn_msg)\n"
     ]
    },
    {
     "data": {
      "text/plain": [
       "('../models/token_classification_model\\\\tokenizer_config.json',\n",
       " '../models/token_classification_model\\\\special_tokens_map.json',\n",
       " '../models/token_classification_model\\\\vocab.txt',\n",
       " '../models/token_classification_model\\\\added_tokens.json',\n",
       " '../models/token_classification_model\\\\tokenizer.json')"
      ]
     },
     "execution_count": 7,
     "metadata": {},
     "output_type": "execute_result"
    }
   ],
   "source": [
    "model = AutoModelForTokenClassification.from_pretrained(\n",
    "    PRETRAINED_MODEL_NAME_OR_PATH,\n",
    "    num_labels=len(label_name_list),\n",
    "    id2label=id2label,\n",
    "    label2id=label2id,\n",
    ")\n",
    "\n",
    "# 使得模型的tensor连续，避免报错\n",
    "for param in model.parameters():\n",
    "    param.data = param.data.contiguous()\n",
    "\n",
    "training_args = TrainingArguments(\n",
    "    output_dir=OUPUT_CHECKPOINT_PATH,\n",
    "    learning_rate=2e-5,\n",
    "    per_device_train_batch_size=BATCH_SIZE,\n",
    "    per_device_eval_batch_size=BATCH_SIZE,\n",
    "    num_train_epochs=EPOCHS,\n",
    "    weight_decay=0.01,\n",
    "    eval_strategy=\"epoch\",\n",
    "    save_strategy=\"epoch\",\n",
    "    load_best_model_at_end=True,\n",
    "    save_total_limit=1,\n",
    "    fp16=True,\n",
    ")\n",
    "\n",
    "data_collator = DataCollatorForTokenClassification(\n",
    "    tokenizer=tokenizer, max_length=MAX_LENGTH, padding=\"max_length\"\n",
    ")\n",
    "\n",
    "trainer = Trainer(\n",
    "    model=model,\n",
    "    args=training_args,\n",
    "    train_dataset=tokenized_wnut[\"train\"],\n",
    "    eval_dataset=tokenized_wnut[\"test\"],\n",
    "    tokenizer=tokenizer,\n",
    "    data_collator=data_collator,\n",
    "    compute_metrics=compute_metrics,\n",
    ")\n",
    "\n",
    "trainer.train()\n",
    "model.half()\n",
    "model.save_pretrained(OUTPUT_MODEL_PATH)\n",
    "tokenizer.save_pretrained(OUTPUT_MODEL_PATH)"
   ]
  },
  {
   "cell_type": "code",
   "execution_count": 8,
   "id": "b9009b4b",
   "metadata": {},
   "outputs": [
    {
     "name": "stderr",
     "output_type": "stream",
     "text": [
      "Device set to use cpu\n",
      "Asking to truncate to max_length but no maximum length is provided and the model has no predefined maximum length. Default to no truncation.\n"
     ]
    },
    {
     "name": "stdout",
     "output_type": "stream",
     "text": [
      "[{'entity_group': '姓名', 'score': np.float32(0.81164455), 'word': '猩 红 女 巫', 'start': 0, 'end': 4}, {'entity_group': '姓名', 'score': np.float32(0.8348796), 'word': '钢 铁 侠', 'start': 9, 'end': 12}]\n"
     ]
    }
   ],
   "source": [
    "import torch\n",
    "from transformers import pipeline\n",
    "from transformers import AutoTokenizer\n",
    "\n",
    "tokenizer = AutoTokenizer.from_pretrained(\n",
    "    OUTPUT_MODEL_PATH,\n",
    "    truncation=True,\n",
    "    max_length=MAX_LENGTH,\n",
    "    padding=\"max_length\",\n",
    "    use_fast=True,\n",
    ")\n",
    "\n",
    "ner = pipeline(\n",
    "    task=\"ner\",\n",
    "    model=OUTPUT_MODEL_PATH,\n",
    "    tokenizer=tokenizer,\n",
    "    torch_dtype=torch.float16,\n",
    "    aggregation_strategy=\"simple\",\n",
    ")\n",
    "\n",
    "print(ner(\"猩红女巫太好看啦！钢铁侠也不赖\"))"
   ]
  }
 ],
 "metadata": {
  "kernelspec": {
   "display_name": ".venv",
   "language": "python",
   "name": "python3"
  },
  "language_info": {
   "codemirror_mode": {
    "name": "ipython",
    "version": 3
   },
   "file_extension": ".py",
   "mimetype": "text/x-python",
   "name": "python",
   "nbconvert_exporter": "python",
   "pygments_lexer": "ipython3",
   "version": "3.10.11"
  }
 },
 "nbformat": 4,
 "nbformat_minor": 5
}
