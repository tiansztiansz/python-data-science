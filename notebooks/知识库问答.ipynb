{
 "cells": [
  {
   "cell_type": "markdown",
   "id": "d727b2f3",
   "metadata": {},
   "source": [
    "### 加载文件"
   ]
  },
  {
   "cell_type": "code",
   "execution_count": 3,
   "id": "b245595d",
   "metadata": {},
   "outputs": [
    {
     "name": "stdout",
     "output_type": "stream",
     "text": [
      "797\n"
     ]
    }
   ],
   "source": [
    "from langchain_community.document_loaders import PyPDFLoader\n",
    "\n",
    "file_path = \"../datasets/d2l-zh-pytorch.pdf\"\n",
    "loader = PyPDFLoader(file_path)\n",
    "\n",
    "docs = loader.load()\n",
    "\n",
    "print(len(docs))"
   ]
  },
  {
   "cell_type": "code",
   "execution_count": 6,
   "id": "29899c46",
   "metadata": {},
   "outputs": [
    {
     "name": "stdout",
     "output_type": "stream",
     "text": [
      "动手学深度学习\n",
      "Release2.0.0\n",
      "AstonZhang,ZacharyC.Lipton,MuLi,andAlexanderJ.Smola\n",
      "Aug18,2023\n",
      "\n",
      "{'producer': 'xdvipdfmx (20210609)', 'creator': 'LaTeX with hyperref', 'creationdate': '2023-08-18T21:21:47+00:00', 'title': '动手学深度学习', 'author': 'Aston Zhang, Zachary C. Lipton, Mu Li, and Alexander J. Smola', 'source': '../datasets/d2l-zh-pytorch.pdf', 'total_pages': 797, 'page': 0, 'page_label': '1'}\n"
     ]
    }
   ],
   "source": [
    "print(f\"{docs[0].page_content[:200]}\\n\")\n",
    "print(docs[0].metadata)"
   ]
  },
  {
   "cell_type": "markdown",
   "id": "338dc921",
   "metadata": {},
   "source": [
    "### 内容分块"
   ]
  },
  {
   "cell_type": "code",
   "execution_count": 7,
   "id": "773608f4",
   "metadata": {},
   "outputs": [
    {
     "data": {
      "text/plain": [
       "1221"
      ]
     },
     "execution_count": 7,
     "metadata": {},
     "output_type": "execute_result"
    }
   ],
   "source": [
    "from langchain_text_splitters import RecursiveCharacterTextSplitter\n",
    "\n",
    "text_splitter = RecursiveCharacterTextSplitter(\n",
    "    chunk_size=1000, chunk_overlap=200, add_start_index=True\n",
    ")\n",
    "all_splits = text_splitter.split_documents(docs)\n",
    "\n",
    "len(all_splits)"
   ]
  },
  {
   "cell_type": "markdown",
   "id": "7a9cc62e",
   "metadata": {},
   "source": [
    "### 文本向量化"
   ]
  },
  {
   "cell_type": "code",
   "execution_count": 12,
   "id": "a13d5b35",
   "metadata": {},
   "outputs": [
    {
     "name": "stderr",
     "output_type": "stream",
     "text": [
      "C:\\Users\\tiansz\\AppData\\Local\\Temp\\ipykernel_11948\\2095470469.py:3: LangChainDeprecationWarning: The class `OllamaEmbeddings` was deprecated in LangChain 0.3.1 and will be removed in 1.0.0. An updated version of the class exists in the :class:`~langchain-ollama package and should be used instead. To use it run `pip install -U :class:`~langchain-ollama` and import as `from :class:`~langchain_ollama import OllamaEmbeddings``.\n",
      "  embeddings = OllamaEmbeddings(\n"
     ]
    }
   ],
   "source": [
    "from langchain_community.embeddings import OllamaEmbeddings\n",
    "\n",
    "embeddings = OllamaEmbeddings(\n",
    "    model=\"bge-m3\",  # 确保 Ollama 已下载该模型（运行 `ollama pull bge-m3`）\n",
    "    base_url=\"http://localhost:11434\",  # 注意去掉 /v1\n",
    ")"
   ]
  },
  {
   "cell_type": "code",
   "execution_count": 13,
   "id": "e86fd12c",
   "metadata": {},
   "outputs": [
    {
     "name": "stdout",
     "output_type": "stream",
     "text": [
      "生成的长度为 1024\n",
      "\n",
      "[-0.29000037908554077, -0.32046055793762207, -0.7968214750289917, -0.860930323600769, -0.7268328070640564, -0.05147669464349747, 0.6050247550010681, -1.122937798500061, 0.01522921770811081, 0.5210712552070618]\n"
     ]
    }
   ],
   "source": [
    "vector_1 = embeddings.embed_query(all_splits[0].page_content)\n",
    "vector_2 = embeddings.embed_query(all_splits[1].page_content)\n",
    "\n",
    "assert len(vector_1) == len(vector_2)\n",
    "print(f\"生成的长度为 {len(vector_1)}\\n\")\n",
    "print(vector_1[:10])"
   ]
  },
  {
   "cell_type": "code",
   "execution_count": 14,
   "id": "8a06a915",
   "metadata": {},
   "outputs": [],
   "source": [
    "from langchain_core.vectorstores import InMemoryVectorStore\n",
    "\n",
    "vector_store = InMemoryVectorStore(embeddings)"
   ]
  },
  {
   "cell_type": "code",
   "execution_count": 15,
   "id": "68bece77",
   "metadata": {},
   "outputs": [],
   "source": [
    "ids = vector_store.add_documents(documents=all_splits)"
   ]
  },
  {
   "cell_type": "markdown",
   "id": "94fdf8ab",
   "metadata": {},
   "source": [
    "### 文本召回"
   ]
  },
  {
   "cell_type": "code",
   "execution_count": null,
   "id": "2e85ee32",
   "metadata": {},
   "outputs": [
    {
     "name": "stdout",
     "output_type": "stream",
     "text": [
      "page_content='小结\n",
      "• 机器学习研究计算机系统如何利用经验（通常是数据）来提高特定任务的性能。它结合了统计学、数据\n",
      "挖掘和优化的思想。通常，它是被用作实现人工智能解决方案的一种手段。\n",
      "• 表示学习作为机器学习的一类，其研究的重点是如何自动找到合适的数据表示方式。深度学习是通过\n",
      "学习多层次的转换来进行的多层次的表示学习。\n",
      "• 深度学习不仅取代了传统机器学习的浅层模型，而且取代了劳动密集型的特征工程。\n",
      "• 最近在深度学习方面取得的许多进展，大都是由廉价传感器和互联网规模应用所产生的大量数据，以\n",
      "及（通过GPU）算力的突破来触发的。\n",
      "• 整个系统优化是获得高性能的关键环节。有效的深度学习框架的开源使得这一点的设计和实现变得非\n",
      "常容易。\n",
      "练习\n",
      "1. 你当前正在编写的代码的哪些部分可以“学习” ， 即通过学习和自动确定代码中所做的设计选择来改进？\n",
      "你的代码是否包含启发式设计选择？\n",
      "2. 你遇到的哪些问题有许多解决它们的样本，但没有具体的自动化方法？这些可能是使用深度学习的主\n",
      "要候选者。\n",
      "3. 如果把人工智能的发展看作一场新的工业革命，那么算法和数据之间的关系是什么？它类似于蒸汽机\n",
      "和煤吗？根本区别是什么？\n",
      "4. 你还可以在哪里应用端到端的训练方法，比如图1.1.2、物理、工程和计量经济学？\n",
      "Discussions35\n",
      "35 https://discuss.d2l.ai/t/1744\n",
      "38 1. 引言' metadata={'producer': 'xdvipdfmx (20210609)', 'creator': 'LaTeX with hyperref', 'creationdate': '2023-08-18T21:21:47+00:00', 'title': '动手学深度学习', 'author': 'Aston Zhang, Zachary C. Lipton, Mu Li, and Alexander J. Smola', 'source': '../datasets/d2l-zh-pytorch.pdf', 'total_pages': 797, 'page': 55, 'page_label': '38', 'start_index': 0}\n"
     ]
    }
   ],
   "source": [
    "results = vector_store.similarity_search(\n",
    "    \"什么是深度学习\"\n",
    ")\n",
    "\n",
    "print(results[0])"
   ]
  },
  {
   "cell_type": "code",
   "execution_count": 17,
   "id": "f6225c7c",
   "metadata": {},
   "outputs": [
    {
     "name": "stdout",
     "output_type": "stream",
     "text": [
      "Score: 0.65121952598117\n",
      "\n",
      "page_content='#@save\n",
      "class BERTModel(nn.Module):\n",
      "\"\"\"BERT模型\"\"\"\n",
      "def __init__(self, vocab_size, num_hiddens, norm_shape, ffn_num_input,\n",
      "ffn_num_hiddens, num_heads, num_layers, dropout,\n",
      "max_len=1000, key_size=768, query_size=768, value_size=768,\n",
      "hid_in_features=768, mlm_in_features=768,\n",
      "nsp_in_features=768):\n",
      "super(BERTModel, self).__init__()\n",
      "self.encoder = BERTEncoder(vocab_size, num_hiddens, norm_shape,\n",
      "ffn_num_input, ffn_num_hiddens, num_heads, num_layers,\n",
      "dropout, max_len=max_len, key_size=key_size,\n",
      "query_size=query_size, value_size=value_size)\n",
      "self.hidden = nn.Sequential(nn.Linear(hid_in_features, num_hiddens),\n",
      "nn.Tanh())\n",
      "self.mlm = MaskLM(vocab_size, num_hiddens, mlm_in_features)\n",
      "self.nsp = NextSentencePred(nsp_in_features)\n",
      "def forward(self, tokens, segments, valid_lens=None,\n",
      "pred_positions=None):\n",
      "encoded_X = self.encoder(tokens, segments, valid_lens)\n",
      "if pred_positions is not None:\n",
      "mlm_Y_hat = self.mlm(encoded_X, pred_positions)\n",
      "else:\n",
      "mlm_Y_hat = None\n",
      "# 用于下一句预测的多层感知机分类器的隐藏层，0是“<cls>”标记的索引' metadata={'producer': 'xdvipdfmx (20210609)', 'creator': 'LaTeX with hyperref', 'creationdate': '2023-08-18T21:21:47+00:00', 'title': '动手学深度学习', 'author': 'Aston Zhang, Zachary C. Lipton, Mu Li, and Alexander J. Smola', 'source': '../datasets/d2l-zh-pytorch.pdf', 'total_pages': 797, 'page': 708, 'page_label': '691', 'start_index': 0}\n"
     ]
    }
   ],
   "source": [
    "results = vector_store.similarity_search_with_score(\"BERT模型\")\n",
    "doc, score = results[0]\n",
    "print(f\"Score: {score}\\n\")\n",
    "print(doc)"
   ]
  },
  {
   "cell_type": "code",
   "execution_count": 18,
   "id": "9662e1bb",
   "metadata": {},
   "outputs": [
    {
     "name": "stdout",
     "output_type": "stream",
     "text": [
      "page_content='#@save\n",
      "class BERTModel(nn.Module):\n",
      "\"\"\"BERT模型\"\"\"\n",
      "def __init__(self, vocab_size, num_hiddens, norm_shape, ffn_num_input,\n",
      "ffn_num_hiddens, num_heads, num_layers, dropout,\n",
      "max_len=1000, key_size=768, query_size=768, value_size=768,\n",
      "hid_in_features=768, mlm_in_features=768,\n",
      "nsp_in_features=768):\n",
      "super(BERTModel, self).__init__()\n",
      "self.encoder = BERTEncoder(vocab_size, num_hiddens, norm_shape,\n",
      "ffn_num_input, ffn_num_hiddens, num_heads, num_layers,\n",
      "dropout, max_len=max_len, key_size=key_size,\n",
      "query_size=query_size, value_size=value_size)\n",
      "self.hidden = nn.Sequential(nn.Linear(hid_in_features, num_hiddens),\n",
      "nn.Tanh())\n",
      "self.mlm = MaskLM(vocab_size, num_hiddens, mlm_in_features)\n",
      "self.nsp = NextSentencePred(nsp_in_features)\n",
      "def forward(self, tokens, segments, valid_lens=None,\n",
      "pred_positions=None):\n",
      "encoded_X = self.encoder(tokens, segments, valid_lens)\n",
      "if pred_positions is not None:\n",
      "mlm_Y_hat = self.mlm(encoded_X, pred_positions)\n",
      "else:\n",
      "mlm_Y_hat = None\n",
      "# 用于下一句预测的多层感知机分类器的隐藏层，0是“<cls>”标记的索引' metadata={'producer': 'xdvipdfmx (20210609)', 'creator': 'LaTeX with hyperref', 'creationdate': '2023-08-18T21:21:47+00:00', 'title': '动手学深度学习', 'author': 'Aston Zhang, Zachary C. Lipton, Mu Li, and Alexander J. Smola', 'source': '../datasets/d2l-zh-pytorch.pdf', 'total_pages': 797, 'page': 708, 'page_label': '691', 'start_index': 0}\n"
     ]
    }
   ],
   "source": [
    "embedding = embeddings.embed_query(\"BERT模型\")\n",
    "\n",
    "results = vector_store.similarity_search_by_vector(embedding)\n",
    "print(results[0])"
   ]
  }
 ],
 "metadata": {
  "kernelspec": {
   "display_name": "python-data-science",
   "language": "python",
   "name": "python3"
  },
  "language_info": {
   "codemirror_mode": {
    "name": "ipython",
    "version": 3
   },
   "file_extension": ".py",
   "mimetype": "text/x-python",
   "name": "python",
   "nbconvert_exporter": "python",
   "pygments_lexer": "ipython3",
   "version": "3.10.11"
  }
 },
 "nbformat": 4,
 "nbformat_minor": 5
}
