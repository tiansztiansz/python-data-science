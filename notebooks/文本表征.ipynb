{
 "cells": [
  {
   "cell_type": "code",
   "execution_count": null,
   "id": "dff44c6f",
   "metadata": {},
   "outputs": [],
   "source": [
    "# uv 环境下可运行如下命令下载模型：\n",
    "# uv run modelscope download --model BAAI/bge-m3 --local_dir models/bge-m3\n",
    "# uv run modelscope download --model BAAI/bge-small-zh-v1.5 --local_dir models/bge-small-zh-v1.5"
   ]
  },
  {
   "cell_type": "code",
   "execution_count": 5,
   "id": "70f62e07",
   "metadata": {},
   "outputs": [
    {
     "name": "stdout",
     "output_type": "stream",
     "text": [
      "[[0.8058398]]\n"
     ]
    }
   ],
   "source": [
    "from sentence_transformers import SentenceTransformer\n",
    "sentences_1 = [\"今天天气真不错\"]\n",
    "sentences_2 = [\"今天天气晴朗\"]\n",
    "model = SentenceTransformer('../models/bge-small-zh-v1.5')\n",
    "embeddings_1 = model.encode(sentences_1, normalize_embeddings=True)\n",
    "embeddings_2 = model.encode(sentences_2, normalize_embeddings=True)\n",
    "similarity = embeddings_1 @ embeddings_2.T\n",
    "print(similarity)"
   ]
  },
  {
   "cell_type": "code",
   "execution_count": 6,
   "id": "037bb83a",
   "metadata": {},
   "outputs": [
    {
     "name": "stdout",
     "output_type": "stream",
     "text": [
      "[[0.73504686]]\n"
     ]
    }
   ],
   "source": [
    "from sentence_transformers import SentenceTransformer\n",
    "queries = [\"今天天气真不错\"]\n",
    "passages = [\"今天天气晴朗\"]\n",
    "instruction = \"为这个句子生成表示以用于检索相关文章：\"\n",
    "\n",
    "model = SentenceTransformer('../models/bge-small-zh-v1.5')\n",
    "q_embeddings = model.encode([instruction+q for q in queries], normalize_embeddings=True)\n",
    "p_embeddings = model.encode(passages, normalize_embeddings=True)\n",
    "scores = q_embeddings @ p_embeddings.T\n",
    "print(scores)"
   ]
  }
 ],
 "metadata": {
  "kernelspec": {
   "display_name": ".venv",
   "language": "python",
   "name": "python3"
  },
  "language_info": {
   "codemirror_mode": {
    "name": "ipython",
    "version": 3
   },
   "file_extension": ".py",
   "mimetype": "text/x-python",
   "name": "python",
   "nbconvert_exporter": "python",
   "pygments_lexer": "ipython3",
   "version": "3.10.11"
  }
 },
 "nbformat": 4,
 "nbformat_minor": 5
}
