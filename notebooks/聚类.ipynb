{
 "cells": [
  {
   "cell_type": "code",
   "execution_count": 1,
   "id": "678099ea",
   "metadata": {},
   "outputs": [],
   "source": [
    "import joblib\n",
    "import numpy as np\n",
    "from sklearn.datasets import make_blobs\n",
    "from sklearn.cluster import MiniBatchKMeans\n",
    "from sklearn.metrics import silhouette_score"
   ]
  },
  {
   "cell_type": "code",
   "execution_count": 2,
   "id": "87f2d747",
   "metadata": {},
   "outputs": [],
   "source": [
    "BATCH_SIZE = 45  # 定义每次训练使用的数据批量大小为45\n",
    "OUTPUT_MODEL_PATH = \"../models/minibatchkmeans_model.joblib\"  # 模型保存路径\n",
    "CENTERS = [[1, 1], [-1, -1], [1, -1]]  # 聚类中心，指定数据点将围绕的三个中心坐标"
   ]
  },
  {
   "cell_type": "code",
   "execution_count": 3,
   "id": "204fe37f",
   "metadata": {},
   "outputs": [],
   "source": [
    "# 设置随机种子为0，以确保每次运行代码时生成的随机数相同\n",
    "np.random.seed(0)\n",
    "# 计算中心的数量（即聚类的数量），这里是3\n",
    "n_clusters = len(CENTERS)\n",
    "# 使用make_blobs函数生成包含3000个样本的数据集\n",
    "X, labels_true = make_blobs(n_samples=3000, centers=CENTERS, cluster_std=0.7)"
   ]
  },
  {
   "cell_type": "code",
   "execution_count": 4,
   "id": "8d274771",
   "metadata": {},
   "outputs": [
    {
     "data": {
      "text/plain": [
       "['../models/minibatchkmeans_model.joblib']"
      ]
     },
     "execution_count": 4,
     "metadata": {},
     "output_type": "execute_result"
    }
   ],
   "source": [
    "# 初始化MiniBatchKMeans模型，参数说明如下：\n",
    "mbk = MiniBatchKMeans(\n",
    "    init=\"k-means++\",  # 初始化中心点的方法\n",
    "    n_clusters=n_clusters,  # 指定聚类数量为3\n",
    "    batch_size=BATCH_SIZE,  # 每次迭代使用的数据批量大小为45\n",
    "    n_init=10,  # 算法运行的不同初始中心点次数\n",
    "    max_no_improvement=10,  # 如果连续10次迭代没有改进，则停止训练\n",
    "    verbose=0,  # 不输出详细的训练信息\n",
    ")\n",
    "\n",
    "# 对生成的数据集X进行模型训练，完成聚类任务\n",
    "mbk.fit(X)\n",
    "# 保存模型\n",
    "joblib.dump(mbk, OUTPUT_MODEL_PATH)"
   ]
  },
  {
   "cell_type": "code",
   "execution_count": 5,
   "id": "70dd11a7",
   "metadata": {},
   "outputs": [
    {
     "name": "stdout",
     "output_type": "stream",
     "text": [
      "轮廓系数: 0.4479\n"
     ]
    }
   ],
   "source": [
    "# 加载模型\n",
    "loaded_model = joblib.load(OUTPUT_MODEL_PATH)\n",
    "\n",
    "# 使用加载后的模型进行预测\n",
    "labels_pred = loaded_model.predict(X)\n",
    "\n",
    "# 评估模型效果，越接近1越好\n",
    "silhouette = silhouette_score(X, labels_pred)\n",
    "print(f\"轮廓系数: {silhouette:.4f}\")"
   ]
  }
 ],
 "metadata": {
  "kernelspec": {
   "display_name": ".venv",
   "language": "python",
   "name": "python3"
  },
  "language_info": {
   "codemirror_mode": {
    "name": "ipython",
    "version": 3
   },
   "file_extension": ".py",
   "mimetype": "text/x-python",
   "name": "python",
   "nbconvert_exporter": "python",
   "pygments_lexer": "ipython3",
   "version": "3.10.11"
  }
 },
 "nbformat": 4,
 "nbformat_minor": 5
}
