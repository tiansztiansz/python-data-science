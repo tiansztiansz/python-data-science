{
 "cells": [
  {
   "cell_type": "code",
   "execution_count": 1,
   "id": "475e2d98",
   "metadata": {},
   "outputs": [],
   "source": [
    "import pandas as pd\n",
    "from sentence_transformers import SentenceTransformer\n",
    "from sklearn.cluster import MiniBatchKMeans"
   ]
  },
  {
   "cell_type": "code",
   "execution_count": 2,
   "id": "c27143e4",
   "metadata": {},
   "outputs": [
    {
     "name": "stdout",
     "output_type": "stream",
     "text": [
      "           文本  聚类标签\n",
      "0   怎样使胡子不浓密！     1\n",
      "1    香港买手表哪里好     0\n",
      "2   在杭州手机到哪里买     0\n",
      "3  胡子长得太快怎么办？     1\n"
     ]
    }
   ],
   "source": [
    "model = SentenceTransformer(\"../models/bge-small-zh-v1.5\")\n",
    "\n",
    "corpus_texts = [\n",
    "    \"怎样使胡子不浓密！\",\n",
    "    \"香港买手表哪里好\",\n",
    "    \"在杭州手机到哪里买\",\n",
    "    \"胡子长得太快怎么办？\",\n",
    "]\n",
    "\n",
    "query_embeddings = model.encode(corpus_texts, normalize_embeddings=True)\n",
    "\n",
    "mbk = MiniBatchKMeans(\n",
    "    init=\"k-means++\",  # 初始化中心点的方法\n",
    "    n_clusters=2,  # 指定聚类数量为2\n",
    "    batch_size=4,  # 每次迭代使用的数据批量大小为4\n",
    "    n_init=10,  # 算法运行的不同初始中心点次数\n",
    "    max_no_improvement=10,  # 如果连续10次迭代没有改进，则停止训练\n",
    "    verbose=0,  # 不输出详细的训练信息\n",
    ")\n",
    "mbk = mbk.fit(query_embeddings)\n",
    "cluster_ids_x = mbk.labels_\n",
    "\n",
    "output_df = pd.DataFrame()\n",
    "output_df[\"文本\"] = corpus_texts\n",
    "output_df[\"聚类标签\"] = cluster_ids_x\n",
    "\n",
    "print(output_df)"
   ]
  }
 ],
 "metadata": {
  "kernelspec": {
   "display_name": ".venv",
   "language": "python",
   "name": "python3"
  },
  "language_info": {
   "codemirror_mode": {
    "name": "ipython",
    "version": 3
   },
   "file_extension": ".py",
   "mimetype": "text/x-python",
   "name": "python",
   "nbconvert_exporter": "python",
   "pygments_lexer": "ipython3",
   "version": "3.10.11"
  }
 },
 "nbformat": 4,
 "nbformat_minor": 5
}
