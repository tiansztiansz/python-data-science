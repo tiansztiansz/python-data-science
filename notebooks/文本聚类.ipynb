{
 "cells": [
  {
   "cell_type": "code",
   "execution_count": 1,
   "id": "a0e7680c",
   "metadata": {},
   "outputs": [],
   "source": [
    "# 使用git和git-lfs克隆可变维度的文本表征模型\n",
    "# git clone https://hf-mirror.com/Classical/Yinka"
   ]
  },
  {
   "cell_type": "code",
   "execution_count": 2,
   "id": "475e2d98",
   "metadata": {},
   "outputs": [],
   "source": [
    "import pandas as pd\n",
    "from sklearn.cluster import DBSCAN\n",
    "from sklearn.preprocessing import normalize\n",
    "from sentence_transformers import SentenceTransformer"
   ]
  },
  {
   "cell_type": "markdown",
   "id": "b5c4dcf2",
   "metadata": {},
   "source": [
    "#### 加载文本表征模型"
   ]
  },
  {
   "cell_type": "code",
   "execution_count": 7,
   "id": "6627397e",
   "metadata": {},
   "outputs": [
    {
     "name": "stdout",
     "output_type": "stream",
     "text": [
      "过滤后的句子: ['怎样使胡子不浓密！', '香港买手表哪里好', '在杭州手机到哪里买', '胡子长得太快怎么办？', '正常句子123']\n"
     ]
    },
    {
     "data": {
      "application/vnd.jupyter.widget-view+json": {
       "model_id": "ca4e27882524469ab8c7bcd38148494b",
       "version_major": 2,
       "version_minor": 0
      },
      "text/plain": [
       "Batches:   0%|          | 0/5 [00:00<?, ?it/s]"
      ]
     },
     "metadata": {},
     "output_type": "display_data"
    },
    {
     "name": "stdout",
     "output_type": "stream",
     "text": [
      "嵌入向量形状: (5, 1792)\n"
     ]
    }
   ],
   "source": [
    "# 加载模型（同时获取 tokenizer）\n",
    "model = SentenceTransformer(\"../models/Yinka\")\n",
    "tokenizer = model.tokenizer  # 获取底层 tokenizer\n",
    "\n",
    "# 原始语料\n",
    "corpus_texts = [\n",
    "    \"怎样使胡子不浓密！\",\n",
    "    \"香港买手表哪里好\",\n",
    "    \"在杭州手机到哪里买\",\n",
    "    \"胡子长得太快怎么办？\",\n",
    "    \"这个句子包含𓀀特殊字符\",  # 𓀀 是古埃及象形文字，大概率是 OOV\n",
    "    \"正常句子123\",\n",
    "]\n",
    "\n",
    "# 检查句子是否包含 OOV 字符（即 tokenizer 会拆分成 [UNK]）\n",
    "def contains_oov(text):\n",
    "    tokens = tokenizer.tokenize(text)\n",
    "    return \"[UNK]\" in tokens  # 如果 tokenizer 无法识别某些字符，会返回 [UNK]\n",
    "\n",
    "# 过滤掉包含 OOV 的句子\n",
    "filtered_texts = [text for text in corpus_texts if not contains_oov(text)]\n",
    "print(\"过滤后的句子:\", filtered_texts)\n",
    "\n",
    "# 生成嵌入向量（仅对有效句子）\n",
    "vectors = model.encode(\n",
    "    filtered_texts,\n",
    "    normalize_embeddings=False,\n",
    "    show_progress_bar=True,\n",
    "    batch_size=1,\n",
    ")\n",
    "print(\"嵌入向量形状:\", vectors.shape)  # (n_valid_sentences, embedding_dim)\n",
    "\n",
    "# 降维 + 归一化（可选）\n",
    "n_dims = 32\n",
    "cut_vecs = normalize(vectors[:, :n_dims])"
   ]
  },
  {
   "cell_type": "markdown",
   "id": "04472e6c",
   "metadata": {},
   "source": [
    "#### dbscan文本聚类"
   ]
  },
  {
   "cell_type": "code",
   "execution_count": 8,
   "id": "116dfa94",
   "metadata": {},
   "outputs": [
    {
     "data": {
      "text/html": [
       "<div>\n",
       "<style scoped>\n",
       "    .dataframe tbody tr th:only-of-type {\n",
       "        vertical-align: middle;\n",
       "    }\n",
       "\n",
       "    .dataframe tbody tr th {\n",
       "        vertical-align: top;\n",
       "    }\n",
       "\n",
       "    .dataframe thead th {\n",
       "        text-align: right;\n",
       "    }\n",
       "</style>\n",
       "<table border=\"1\" class=\"dataframe\">\n",
       "  <thead>\n",
       "    <tr style=\"text-align: right;\">\n",
       "      <th></th>\n",
       "      <th>文本</th>\n",
       "      <th>聚类标签</th>\n",
       "    </tr>\n",
       "  </thead>\n",
       "  <tbody>\n",
       "    <tr>\n",
       "      <th>0</th>\n",
       "      <td>怎样使胡子不浓密！</td>\n",
       "      <td>0</td>\n",
       "    </tr>\n",
       "    <tr>\n",
       "      <th>1</th>\n",
       "      <td>香港买手表哪里好</td>\n",
       "      <td>-1</td>\n",
       "    </tr>\n",
       "    <tr>\n",
       "      <th>2</th>\n",
       "      <td>在杭州手机到哪里买</td>\n",
       "      <td>-1</td>\n",
       "    </tr>\n",
       "    <tr>\n",
       "      <th>3</th>\n",
       "      <td>胡子长得太快怎么办？</td>\n",
       "      <td>0</td>\n",
       "    </tr>\n",
       "    <tr>\n",
       "      <th>4</th>\n",
       "      <td>正常句子123</td>\n",
       "      <td>-1</td>\n",
       "    </tr>\n",
       "  </tbody>\n",
       "</table>\n",
       "</div>"
      ],
      "text/plain": [
       "           文本  聚类标签\n",
       "0   怎样使胡子不浓密！     0\n",
       "1    香港买手表哪里好    -1\n",
       "2   在杭州手机到哪里买    -1\n",
       "3  胡子长得太快怎么办？     0\n",
       "4     正常句子123    -1"
      ]
     },
     "execution_count": 8,
     "metadata": {},
     "output_type": "execute_result"
    }
   ],
   "source": [
    "db = DBSCAN(eps=0.5, min_samples=2).fit(cut_vecs)\n",
    "labels = db.labels_\n",
    "\n",
    "output_df = pd.DataFrame()\n",
    "output_df[\"文本\"] = filtered_texts\n",
    "output_df[\"聚类标签\"] = labels\n",
    "\n",
    "output_df"
   ]
  }
 ],
 "metadata": {
  "kernelspec": {
   "display_name": "python-data-science",
   "language": "python",
   "name": "python3"
  },
  "language_info": {
   "codemirror_mode": {
    "name": "ipython",
    "version": 3
   },
   "file_extension": ".py",
   "mimetype": "text/x-python",
   "name": "python",
   "nbconvert_exporter": "python",
   "pygments_lexer": "ipython3",
   "version": "3.10.11"
  }
 },
 "nbformat": 4,
 "nbformat_minor": 5
}
